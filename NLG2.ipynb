{
 "cells": [
  {
   "cell_type": "markdown",
   "metadata": {},
   "source": [
    "# <span style=\"color:red; font-family: 'Times New Roman'\">**PYTHON EXAMPLES FOR NLP**</span>\n"
   ]
  },
  {
   "cell_type": "code",
   "execution_count": 1,
   "metadata": {},
   "outputs": [],
   "source": [
    "import spacy"
   ]
  },
  {
   "cell_type": "code",
   "execution_count": 5,
   "metadata": {},
   "outputs": [],
   "source": [
    "nlp = spacy.load('en_core_web_sm')"
   ]
  },
  {
   "cell_type": "code",
   "execution_count": 6,
   "metadata": {},
   "outputs": [],
   "source": [
    "doc = nlp(u'This is my first text for the NLP Project')"
   ]
  },
  {
   "cell_type": "code",
   "execution_count": 10,
   "metadata": {},
   "outputs": [
    {
     "name": "stdout",
     "output_type": "stream",
     "text": [
      "This PRON nsubj\n",
      "is AUX ROOT\n",
      "my PRON poss\n",
      "first ADJ amod\n",
      "text NOUN attr\n",
      "for ADP prep\n",
      "the DET det\n",
      "NLP PROPN compound\n",
      "Project PROPN pobj\n"
     ]
    }
   ],
   "source": [
    "for token in doc:\n",
    "    print(token.text, token.pos_, token.dep_)"
   ]
  },
  {
   "cell_type": "code",
   "execution_count": 11,
   "metadata": {},
   "outputs": [
    {
     "data": {
      "text/plain": [
       "[('tok2vec', <spacy.pipeline.tok2vec.Tok2Vec at 0x13b5d1fdea0>),\n",
       " ('tagger', <spacy.pipeline.tagger.Tagger at 0x13b5d2f24a0>),\n",
       " ('parser', <spacy.pipeline.dep_parser.DependencyParser at 0x13b5d002ea0>),\n",
       " ('attribute_ruler',\n",
       "  <spacy.pipeline.attributeruler.AttributeRuler at 0x13b5c1718c0>),\n",
       " ('lemmatizer', <spacy.lang.en.lemmatizer.EnglishLemmatizer at 0x13b5d630cc0>),\n",
       " ('ner', <spacy.pipeline.ner.EntityRecognizer at 0x13b5d002d50>)]"
      ]
     },
     "execution_count": 11,
     "metadata": {},
     "output_type": "execute_result"
    }
   ],
   "source": [
    "nlp.pipeline"
   ]
  },
  {
   "cell_type": "code",
   "execution_count": 12,
   "metadata": {},
   "outputs": [
    {
     "data": {
      "text/plain": [
       "['tok2vec', 'tagger', 'parser', 'attribute_ruler', 'lemmatizer', 'ner']"
      ]
     },
     "execution_count": 12,
     "metadata": {},
     "output_type": "execute_result"
    }
   ],
   "source": [
    "nlp.pipe_names"
   ]
  },
  {
   "cell_type": "code",
   "execution_count": 13,
   "metadata": {},
   "outputs": [],
   "source": [
    "doc2 = nlp(u'This is my second text for the NLP Project and I will be happy about that if I win $100 dollars')"
   ]
  },
  {
   "cell_type": "code",
   "execution_count": 34,
   "metadata": {},
   "outputs": [
    {
     "name": "stdout",
     "output_type": "stream",
     "text": [
      "This PRON nsubj\n",
      "is AUX ROOT\n",
      "my PRON poss\n",
      "second ADJ amod\n",
      "text NOUN attr\n",
      "for ADP prep\n",
      "the DET det\n",
      "NLP PROPN compound\n",
      "Project PROPN pobj\n",
      "and CCONJ cc\n",
      "I PRON nsubj\n",
      "will AUX aux\n",
      "be AUX conj\n",
      "happy ADJ acomp\n",
      "about ADP prep\n",
      "that PRON pobj\n"
     ]
    }
   ],
   "source": [
    "for token in doc2:\n",
    "    print(token.text, token.pos_, token.dep_)"
   ]
  },
  {
   "cell_type": "code",
   "execution_count": 15,
   "metadata": {},
   "outputs": [
    {
     "data": {
      "text/plain": [
       "This"
      ]
     },
     "execution_count": 15,
     "metadata": {},
     "output_type": "execute_result"
    }
   ],
   "source": [
    "doc2[0]"
   ]
  },
  {
   "cell_type": "code",
   "execution_count": 17,
   "metadata": {},
   "outputs": [
    {
     "data": {
      "text/plain": [
       "'ADJ'"
      ]
     },
     "execution_count": 17,
     "metadata": {},
     "output_type": "execute_result"
    }
   ],
   "source": [
    "doc2[3].pos_"
   ]
  },
  {
   "cell_type": "code",
   "execution_count": 18,
   "metadata": {},
   "outputs": [],
   "source": [
    "doc3 = nlp(u'Lorem Ipsum is simply dummy text of the printing and typesetting industry. Lorem Ipsum has been the industry s standard dummy text ever since the 1500s, when an unknown printer took a galley of type and scrambled it to make a type specimen book. It has survived not only five centuries, but also the leap into electronic typesetting, remaining essentially unchanged. It was popularised in the 1960s with the release of Letraset sheets containing Lorem Ipsum passages, and more recently with desktop publishing software like Aldus PageMaker including versions of Lorem Ipsum.')"
   ]
  },
  {
   "cell_type": "code",
   "execution_count": 21,
   "metadata": {},
   "outputs": [],
   "source": [
    "life_quote = doc3[0:15]"
   ]
  },
  {
   "cell_type": "code",
   "execution_count": 22,
   "metadata": {},
   "outputs": [
    {
     "name": "stdout",
     "output_type": "stream",
     "text": [
      "Lorem Ipsum is simply dummy text of the printing and typesetting industry. Lorem Ipsum\n"
     ]
    }
   ],
   "source": [
    "print(life_quote)"
   ]
  },
  {
   "cell_type": "code",
   "execution_count": 23,
   "metadata": {},
   "outputs": [
    {
     "data": {
      "text/plain": [
       "spacy.tokens.span.Span"
      ]
     },
     "execution_count": 23,
     "metadata": {},
     "output_type": "execute_result"
    }
   ],
   "source": [
    "type(life_quote)"
   ]
  },
  {
   "cell_type": "code",
   "execution_count": 24,
   "metadata": {},
   "outputs": [
    {
     "data": {
      "text/plain": [
       "spacy.tokens.doc.Doc"
      ]
     },
     "execution_count": 24,
     "metadata": {},
     "output_type": "execute_result"
    }
   ],
   "source": [
    "type(doc3)"
   ]
  },
  {
   "cell_type": "code",
   "execution_count": 25,
   "metadata": {},
   "outputs": [
    {
     "name": "stdout",
     "output_type": "stream",
     "text": [
      "Lorem Ipsum is simply dummy text of the printing and typesetting industry.\n",
      "Lorem Ipsum has been the industry s standard dummy text ever since the 1500s, when an unknown printer took a galley of type and scrambled it to make a type specimen book.\n",
      "It has survived not only five centuries, but also the leap into electronic typesetting, remaining essentially unchanged.\n",
      "It was popularised in the 1960s with the release of Letraset sheets containing Lorem Ipsum passages, and more recently with desktop publishing software like Aldus PageMaker including versions of Lorem Ipsum.\n"
     ]
    }
   ],
   "source": [
    "for sentence in doc3.sents:\n",
    "    print(sentence)"
   ]
  },
  {
   "cell_type": "code",
   "execution_count": 26,
   "metadata": {},
   "outputs": [
    {
     "data": {
      "text/plain": [
       "100"
      ]
     },
     "execution_count": 26,
     "metadata": {},
     "output_type": "execute_result"
    }
   ],
   "source": [
    "len(doc3)"
   ]
  },
  {
   "cell_type": "code",
   "execution_count": 36,
   "metadata": {},
   "outputs": [
    {
     "name": "stdout",
     "output_type": "stream",
     "text": [
      "This | is | my | second | text | for | the | NLP | Project | and | I | will | be | happy | about | that | "
     ]
    }
   ],
   "source": [
    "for token in doc2:\n",
    "    print(token.text, end = ' | ') "
   ]
  },
  {
   "cell_type": "code",
   "execution_count": 37,
   "metadata": {},
   "outputs": [
    {
     "name": "stdout",
     "output_type": "stream",
     "text": [
      "second\n",
      "ORDINAL\n",
      "\"first\", \"second\", etc.\n",
      "\n",
      "\n",
      "the NLP Project\n",
      "ORG\n",
      "Companies, agencies, institutions, etc.\n",
      "\n",
      "\n"
     ]
    }
   ],
   "source": [
    "for entity in doc2.ents:\n",
    "    print(entity)\n",
    "    print(entity.label_)\n",
    "    print(str(spacy.explain(entity.label_)))\n",
    "    print('\\n')"
   ]
  },
  {
   "cell_type": "code",
   "execution_count": 38,
   "metadata": {},
   "outputs": [],
   "source": [
    "from spacy import displacy"
   ]
  },
  {
   "cell_type": "code",
   "execution_count": 39,
   "metadata": {},
   "outputs": [],
   "source": [
    "doc = nlp(u\"Apple is going to build a U.K. factory for $6 million.\")"
   ]
  },
  {
   "cell_type": "code",
   "execution_count": 42,
   "metadata": {},
   "outputs": [
    {
     "data": {
      "text/html": [
       "<span class=\"tex2jax_ignore\"><svg xmlns=\"http://www.w3.org/2000/svg\" xmlns:xlink=\"http://www.w3.org/1999/xlink\" xml:lang=\"en\" id=\"d7d658d0b4744cdcb78ce6f40bf225f6-0\" class=\"displacy\" width=\"1250\" height=\"337.0\" direction=\"ltr\" style=\"max-width: none; height: 337.0px; color: #000000; background: #ffffff; font-family: Arial; direction: ltr\">\n",
       "<text class=\"displacy-token\" fill=\"currentColor\" text-anchor=\"middle\" y=\"247.0\">\n",
       "    <tspan class=\"displacy-word\" fill=\"currentColor\" x=\"50\">Apple</tspan>\n",
       "    <tspan class=\"displacy-tag\" dy=\"2em\" fill=\"currentColor\" x=\"50\">PROPN</tspan>\n",
       "</text>\n",
       "\n",
       "<text class=\"displacy-token\" fill=\"currentColor\" text-anchor=\"middle\" y=\"247.0\">\n",
       "    <tspan class=\"displacy-word\" fill=\"currentColor\" x=\"150\">is</tspan>\n",
       "    <tspan class=\"displacy-tag\" dy=\"2em\" fill=\"currentColor\" x=\"150\">AUX</tspan>\n",
       "</text>\n",
       "\n",
       "<text class=\"displacy-token\" fill=\"currentColor\" text-anchor=\"middle\" y=\"247.0\">\n",
       "    <tspan class=\"displacy-word\" fill=\"currentColor\" x=\"250\">going</tspan>\n",
       "    <tspan class=\"displacy-tag\" dy=\"2em\" fill=\"currentColor\" x=\"250\">VERB</tspan>\n",
       "</text>\n",
       "\n",
       "<text class=\"displacy-token\" fill=\"currentColor\" text-anchor=\"middle\" y=\"247.0\">\n",
       "    <tspan class=\"displacy-word\" fill=\"currentColor\" x=\"350\">to</tspan>\n",
       "    <tspan class=\"displacy-tag\" dy=\"2em\" fill=\"currentColor\" x=\"350\">PART</tspan>\n",
       "</text>\n",
       "\n",
       "<text class=\"displacy-token\" fill=\"currentColor\" text-anchor=\"middle\" y=\"247.0\">\n",
       "    <tspan class=\"displacy-word\" fill=\"currentColor\" x=\"450\">build</tspan>\n",
       "    <tspan class=\"displacy-tag\" dy=\"2em\" fill=\"currentColor\" x=\"450\">VERB</tspan>\n",
       "</text>\n",
       "\n",
       "<text class=\"displacy-token\" fill=\"currentColor\" text-anchor=\"middle\" y=\"247.0\">\n",
       "    <tspan class=\"displacy-word\" fill=\"currentColor\" x=\"550\">a</tspan>\n",
       "    <tspan class=\"displacy-tag\" dy=\"2em\" fill=\"currentColor\" x=\"550\">DET</tspan>\n",
       "</text>\n",
       "\n",
       "<text class=\"displacy-token\" fill=\"currentColor\" text-anchor=\"middle\" y=\"247.0\">\n",
       "    <tspan class=\"displacy-word\" fill=\"currentColor\" x=\"650\">U.K.</tspan>\n",
       "    <tspan class=\"displacy-tag\" dy=\"2em\" fill=\"currentColor\" x=\"650\">PROPN</tspan>\n",
       "</text>\n",
       "\n",
       "<text class=\"displacy-token\" fill=\"currentColor\" text-anchor=\"middle\" y=\"247.0\">\n",
       "    <tspan class=\"displacy-word\" fill=\"currentColor\" x=\"750\">factory</tspan>\n",
       "    <tspan class=\"displacy-tag\" dy=\"2em\" fill=\"currentColor\" x=\"750\">NOUN</tspan>\n",
       "</text>\n",
       "\n",
       "<text class=\"displacy-token\" fill=\"currentColor\" text-anchor=\"middle\" y=\"247.0\">\n",
       "    <tspan class=\"displacy-word\" fill=\"currentColor\" x=\"850\">for</tspan>\n",
       "    <tspan class=\"displacy-tag\" dy=\"2em\" fill=\"currentColor\" x=\"850\">ADP</tspan>\n",
       "</text>\n",
       "\n",
       "<text class=\"displacy-token\" fill=\"currentColor\" text-anchor=\"middle\" y=\"247.0\">\n",
       "    <tspan class=\"displacy-word\" fill=\"currentColor\" x=\"950\">$</tspan>\n",
       "    <tspan class=\"displacy-tag\" dy=\"2em\" fill=\"currentColor\" x=\"950\">SYM</tspan>\n",
       "</text>\n",
       "\n",
       "<text class=\"displacy-token\" fill=\"currentColor\" text-anchor=\"middle\" y=\"247.0\">\n",
       "    <tspan class=\"displacy-word\" fill=\"currentColor\" x=\"1050\">6</tspan>\n",
       "    <tspan class=\"displacy-tag\" dy=\"2em\" fill=\"currentColor\" x=\"1050\">NUM</tspan>\n",
       "</text>\n",
       "\n",
       "<text class=\"displacy-token\" fill=\"currentColor\" text-anchor=\"middle\" y=\"247.0\">\n",
       "    <tspan class=\"displacy-word\" fill=\"currentColor\" x=\"1150\">million.</tspan>\n",
       "    <tspan class=\"displacy-tag\" dy=\"2em\" fill=\"currentColor\" x=\"1150\">NUM</tspan>\n",
       "</text>\n",
       "\n",
       "<g class=\"displacy-arrow\">\n",
       "    <path class=\"displacy-arc\" id=\"arrow-d7d658d0b4744cdcb78ce6f40bf225f6-0-0\" stroke-width=\"2px\" d=\"M70,202.0 C70,102.0 240.0,102.0 240.0,202.0\" fill=\"none\" stroke=\"currentColor\"/>\n",
       "    <text dy=\"1.25em\" style=\"font-size: 0.8em; letter-spacing: 1px\">\n",
       "        <textPath xlink:href=\"#arrow-d7d658d0b4744cdcb78ce6f40bf225f6-0-0\" class=\"displacy-label\" startOffset=\"50%\" side=\"left\" fill=\"currentColor\" text-anchor=\"middle\">nsubj</textPath>\n",
       "    </text>\n",
       "    <path class=\"displacy-arrowhead\" d=\"M70,204.0 L62,192.0 78,192.0\" fill=\"currentColor\"/>\n",
       "</g>\n",
       "\n",
       "<g class=\"displacy-arrow\">\n",
       "    <path class=\"displacy-arc\" id=\"arrow-d7d658d0b4744cdcb78ce6f40bf225f6-0-1\" stroke-width=\"2px\" d=\"M170,202.0 C170,152.0 235.0,152.0 235.0,202.0\" fill=\"none\" stroke=\"currentColor\"/>\n",
       "    <text dy=\"1.25em\" style=\"font-size: 0.8em; letter-spacing: 1px\">\n",
       "        <textPath xlink:href=\"#arrow-d7d658d0b4744cdcb78ce6f40bf225f6-0-1\" class=\"displacy-label\" startOffset=\"50%\" side=\"left\" fill=\"currentColor\" text-anchor=\"middle\">aux</textPath>\n",
       "    </text>\n",
       "    <path class=\"displacy-arrowhead\" d=\"M170,204.0 L162,192.0 178,192.0\" fill=\"currentColor\"/>\n",
       "</g>\n",
       "\n",
       "<g class=\"displacy-arrow\">\n",
       "    <path class=\"displacy-arc\" id=\"arrow-d7d658d0b4744cdcb78ce6f40bf225f6-0-2\" stroke-width=\"2px\" d=\"M370,202.0 C370,152.0 435.0,152.0 435.0,202.0\" fill=\"none\" stroke=\"currentColor\"/>\n",
       "    <text dy=\"1.25em\" style=\"font-size: 0.8em; letter-spacing: 1px\">\n",
       "        <textPath xlink:href=\"#arrow-d7d658d0b4744cdcb78ce6f40bf225f6-0-2\" class=\"displacy-label\" startOffset=\"50%\" side=\"left\" fill=\"currentColor\" text-anchor=\"middle\">aux</textPath>\n",
       "    </text>\n",
       "    <path class=\"displacy-arrowhead\" d=\"M370,204.0 L362,192.0 378,192.0\" fill=\"currentColor\"/>\n",
       "</g>\n",
       "\n",
       "<g class=\"displacy-arrow\">\n",
       "    <path class=\"displacy-arc\" id=\"arrow-d7d658d0b4744cdcb78ce6f40bf225f6-0-3\" stroke-width=\"2px\" d=\"M270,202.0 C270,102.0 440.0,102.0 440.0,202.0\" fill=\"none\" stroke=\"currentColor\"/>\n",
       "    <text dy=\"1.25em\" style=\"font-size: 0.8em; letter-spacing: 1px\">\n",
       "        <textPath xlink:href=\"#arrow-d7d658d0b4744cdcb78ce6f40bf225f6-0-3\" class=\"displacy-label\" startOffset=\"50%\" side=\"left\" fill=\"currentColor\" text-anchor=\"middle\">xcomp</textPath>\n",
       "    </text>\n",
       "    <path class=\"displacy-arrowhead\" d=\"M440.0,204.0 L448.0,192.0 432.0,192.0\" fill=\"currentColor\"/>\n",
       "</g>\n",
       "\n",
       "<g class=\"displacy-arrow\">\n",
       "    <path class=\"displacy-arc\" id=\"arrow-d7d658d0b4744cdcb78ce6f40bf225f6-0-4\" stroke-width=\"2px\" d=\"M570,202.0 C570,102.0 740.0,102.0 740.0,202.0\" fill=\"none\" stroke=\"currentColor\"/>\n",
       "    <text dy=\"1.25em\" style=\"font-size: 0.8em; letter-spacing: 1px\">\n",
       "        <textPath xlink:href=\"#arrow-d7d658d0b4744cdcb78ce6f40bf225f6-0-4\" class=\"displacy-label\" startOffset=\"50%\" side=\"left\" fill=\"currentColor\" text-anchor=\"middle\">det</textPath>\n",
       "    </text>\n",
       "    <path class=\"displacy-arrowhead\" d=\"M570,204.0 L562,192.0 578,192.0\" fill=\"currentColor\"/>\n",
       "</g>\n",
       "\n",
       "<g class=\"displacy-arrow\">\n",
       "    <path class=\"displacy-arc\" id=\"arrow-d7d658d0b4744cdcb78ce6f40bf225f6-0-5\" stroke-width=\"2px\" d=\"M670,202.0 C670,152.0 735.0,152.0 735.0,202.0\" fill=\"none\" stroke=\"currentColor\"/>\n",
       "    <text dy=\"1.25em\" style=\"font-size: 0.8em; letter-spacing: 1px\">\n",
       "        <textPath xlink:href=\"#arrow-d7d658d0b4744cdcb78ce6f40bf225f6-0-5\" class=\"displacy-label\" startOffset=\"50%\" side=\"left\" fill=\"currentColor\" text-anchor=\"middle\">compound</textPath>\n",
       "    </text>\n",
       "    <path class=\"displacy-arrowhead\" d=\"M670,204.0 L662,192.0 678,192.0\" fill=\"currentColor\"/>\n",
       "</g>\n",
       "\n",
       "<g class=\"displacy-arrow\">\n",
       "    <path class=\"displacy-arc\" id=\"arrow-d7d658d0b4744cdcb78ce6f40bf225f6-0-6\" stroke-width=\"2px\" d=\"M470,202.0 C470,52.0 745.0,52.0 745.0,202.0\" fill=\"none\" stroke=\"currentColor\"/>\n",
       "    <text dy=\"1.25em\" style=\"font-size: 0.8em; letter-spacing: 1px\">\n",
       "        <textPath xlink:href=\"#arrow-d7d658d0b4744cdcb78ce6f40bf225f6-0-6\" class=\"displacy-label\" startOffset=\"50%\" side=\"left\" fill=\"currentColor\" text-anchor=\"middle\">dobj</textPath>\n",
       "    </text>\n",
       "    <path class=\"displacy-arrowhead\" d=\"M745.0,204.0 L753.0,192.0 737.0,192.0\" fill=\"currentColor\"/>\n",
       "</g>\n",
       "\n",
       "<g class=\"displacy-arrow\">\n",
       "    <path class=\"displacy-arc\" id=\"arrow-d7d658d0b4744cdcb78ce6f40bf225f6-0-7\" stroke-width=\"2px\" d=\"M470,202.0 C470,2.0 850.0,2.0 850.0,202.0\" fill=\"none\" stroke=\"currentColor\"/>\n",
       "    <text dy=\"1.25em\" style=\"font-size: 0.8em; letter-spacing: 1px\">\n",
       "        <textPath xlink:href=\"#arrow-d7d658d0b4744cdcb78ce6f40bf225f6-0-7\" class=\"displacy-label\" startOffset=\"50%\" side=\"left\" fill=\"currentColor\" text-anchor=\"middle\">prep</textPath>\n",
       "    </text>\n",
       "    <path class=\"displacy-arrowhead\" d=\"M850.0,204.0 L858.0,192.0 842.0,192.0\" fill=\"currentColor\"/>\n",
       "</g>\n",
       "\n",
       "<g class=\"displacy-arrow\">\n",
       "    <path class=\"displacy-arc\" id=\"arrow-d7d658d0b4744cdcb78ce6f40bf225f6-0-8\" stroke-width=\"2px\" d=\"M970,202.0 C970,102.0 1140.0,102.0 1140.0,202.0\" fill=\"none\" stroke=\"currentColor\"/>\n",
       "    <text dy=\"1.25em\" style=\"font-size: 0.8em; letter-spacing: 1px\">\n",
       "        <textPath xlink:href=\"#arrow-d7d658d0b4744cdcb78ce6f40bf225f6-0-8\" class=\"displacy-label\" startOffset=\"50%\" side=\"left\" fill=\"currentColor\" text-anchor=\"middle\">quantmod</textPath>\n",
       "    </text>\n",
       "    <path class=\"displacy-arrowhead\" d=\"M970,204.0 L962,192.0 978,192.0\" fill=\"currentColor\"/>\n",
       "</g>\n",
       "\n",
       "<g class=\"displacy-arrow\">\n",
       "    <path class=\"displacy-arc\" id=\"arrow-d7d658d0b4744cdcb78ce6f40bf225f6-0-9\" stroke-width=\"2px\" d=\"M1070,202.0 C1070,152.0 1135.0,152.0 1135.0,202.0\" fill=\"none\" stroke=\"currentColor\"/>\n",
       "    <text dy=\"1.25em\" style=\"font-size: 0.8em; letter-spacing: 1px\">\n",
       "        <textPath xlink:href=\"#arrow-d7d658d0b4744cdcb78ce6f40bf225f6-0-9\" class=\"displacy-label\" startOffset=\"50%\" side=\"left\" fill=\"currentColor\" text-anchor=\"middle\">compound</textPath>\n",
       "    </text>\n",
       "    <path class=\"displacy-arrowhead\" d=\"M1070,204.0 L1062,192.0 1078,192.0\" fill=\"currentColor\"/>\n",
       "</g>\n",
       "\n",
       "<g class=\"displacy-arrow\">\n",
       "    <path class=\"displacy-arc\" id=\"arrow-d7d658d0b4744cdcb78ce6f40bf225f6-0-10\" stroke-width=\"2px\" d=\"M870,202.0 C870,52.0 1145.0,52.0 1145.0,202.0\" fill=\"none\" stroke=\"currentColor\"/>\n",
       "    <text dy=\"1.25em\" style=\"font-size: 0.8em; letter-spacing: 1px\">\n",
       "        <textPath xlink:href=\"#arrow-d7d658d0b4744cdcb78ce6f40bf225f6-0-10\" class=\"displacy-label\" startOffset=\"50%\" side=\"left\" fill=\"currentColor\" text-anchor=\"middle\">pobj</textPath>\n",
       "    </text>\n",
       "    <path class=\"displacy-arrowhead\" d=\"M1145.0,204.0 L1153.0,192.0 1137.0,192.0\" fill=\"currentColor\"/>\n",
       "</g>\n",
       "</svg></span>"
      ],
      "text/plain": [
       "<IPython.core.display.HTML object>"
      ]
     },
     "metadata": {},
     "output_type": "display_data"
    }
   ],
   "source": [
    "displacy.render(doc, style='dep', jupyter=True, options={'distance':100})"
   ]
  },
  {
   "cell_type": "code",
   "execution_count": 21,
   "metadata": {},
   "outputs": [
    {
     "data": {
      "text/html": [
       "<span class=\"tex2jax_ignore\"><div class=\"entities\" style=\"line-height: 2.5; direction: ltr\">1954 yılında, vakıf kaynaklarını ekonomik kalkınmanın ihtiyaçları doğrultusunda en iyi \n",
       "<mark class=\"entity\" style=\"background: linear-gradient(90deg, #ff7f00, #ffb84d); padding: 0.45em 0.6em; margin: 0 0.25em; line-height: 1; border-radius: 0.35em;\">\n",
       "    biçimde değerlendirmek\n",
       "    <span style=\"font-size: 0.8em; font-weight: bold; line-height: 1; border-radius: 0.35em; vertical-align: middle; margin-left: 0.5rem\">ORG</span>\n",
       "</mark>\n",
       " amacıyla kurulan \n",
       "<mark class=\"entity\" style=\"background: linear-gradient(90deg, #ff7f00, #ffb84d); padding: 0.45em 0.6em; margin: 0 0.25em; line-height: 1; border-radius: 0.35em;\">\n",
       "    VakıfBank\n",
       "    <span style=\"font-size: 0.8em; font-weight: bold; line-height: 1; border-radius: 0.35em; vertical-align: middle; margin-left: 0.5rem\">ORG</span>\n",
       "</mark>\n",
       ", o günden bu yana çağdaş bankacılık yöntemleri ve uygulamalarıyla Türkiye’nin tasarruf düzeyinin gelişim sürecine katkıda bulunmaktadır. VakıfBank; “Güçlü Türkiye’nin Lider Bankası” olma vizyonu doğrultusunda, vakıf \n",
       "<mark class=\"entity\" style=\"background: linear-gradient(90deg, #ff7f00, #ffb84d); padding: 0.45em 0.6em; margin: 0 0.25em; line-height: 1; border-radius: 0.35em;\">\n",
       "    kültüründen aldığı güçle\n",
       "    <span style=\"font-size: 0.8em; font-weight: bold; line-height: 1; border-radius: 0.35em; vertical-align: middle; margin-left: 0.5rem\">ORG</span>\n",
       "</mark>\n",
       ", kendisine emanet edilen varlık ve değerleri etkin ve verimli yöneterek müşteriler, çalışanlar, hissedarlar ve topluma kattığı değerleri sürekli artırma misyonuyla hareket etmektedir.</div></span>"
      ],
      "text/plain": [
       "<IPython.core.display.HTML object>"
      ]
     },
     "metadata": {},
     "output_type": "display_data"
    }
   ],
   "source": [
    "from spacy import displacy\n",
    "options = {\n",
    "    \"ents\": [\"ORG\", \"GPE\", \"MONEY\"],  # Görselleştirilecek etiketler\n",
    "    \"colors\": {\n",
    "        \"ORG\": \"linear-gradient(90deg, #ff7f00, #ffb84d)\",  # Turuncu Gradyanı\n",
    "        \"GPE\": \"linear-gradient(90deg, #00c6ff, #0072ff)\",  # Mavi Gradyanı\n",
    "        \"MONEY\": \"linear-gradient(90deg, #00ff99, #009933)\"  # Yeşil Gradyanı\n",
    "    }\n",
    "}\n",
    "displacy.render(doc4, style='ent', jupyter=True, options=options)"
   ]
  },
  {
   "cell_type": "code",
   "execution_count": 45,
   "metadata": {},
   "outputs": [],
   "source": [
    "import nltk"
   ]
  },
  {
   "cell_type": "code",
   "execution_count": 46,
   "metadata": {},
   "outputs": [],
   "source": [
    "from nltk.stem.porter import PorterStemmer"
   ]
  },
  {
   "cell_type": "code",
   "execution_count": 47,
   "metadata": {},
   "outputs": [],
   "source": [
    "p_stemmer = PorterStemmer()"
   ]
  },
  {
   "cell_type": "code",
   "execution_count": 53,
   "metadata": {},
   "outputs": [],
   "source": [
    "words = ['run', 'runner', 'ran', 'runs', 'easily', 'fairly', 'fairness']"
   ]
  },
  {
   "cell_type": "code",
   "execution_count": 54,
   "metadata": {},
   "outputs": [
    {
     "name": "stdout",
     "output_type": "stream",
     "text": [
      "run----->run\n",
      "runner----->runner\n",
      "ran----->ran\n",
      "runs----->run\n",
      "easily----->easili\n",
      "fairly----->fairli\n",
      "fairness----->fair\n"
     ]
    }
   ],
   "source": [
    "for word in words:\n",
    "    print(word + '----->' + p_stemmer.stem(word))"
   ]
  },
  {
   "cell_type": "code",
   "execution_count": 50,
   "metadata": {},
   "outputs": [],
   "source": [
    "from nltk.stem.snowball import SnowballStemmer"
   ]
  },
  {
   "cell_type": "code",
   "execution_count": 51,
   "metadata": {},
   "outputs": [],
   "source": [
    "s_stemmer = SnowballStemmer(language='english')"
   ]
  },
  {
   "cell_type": "code",
   "execution_count": 55,
   "metadata": {},
   "outputs": [],
   "source": [
    "words = ['generous', 'generation', 'generously', 'generate']"
   ]
  },
  {
   "cell_type": "code",
   "execution_count": 56,
   "metadata": {},
   "outputs": [
    {
     "name": "stdout",
     "output_type": "stream",
     "text": [
      "generous----->generous\n",
      "generation----->generat\n",
      "generously----->generous\n",
      "generate----->generat\n"
     ]
    }
   ],
   "source": [
    "for word in words:\n",
    "    print(word + '----->' + s_stemmer.stem(word))"
   ]
  },
  {
   "cell_type": "code",
   "execution_count": 57,
   "metadata": {},
   "outputs": [
    {
     "name": "stdout",
     "output_type": "stream",
     "text": [
      "This \t PRON \t 1995909169258310477 \t this\n",
      "is \t AUX \t 10382539506755952630 \t be\n",
      "my \t PRON \t 227504873216781231 \t my\n",
      "second \t ADJ \t 18193336062778529705 \t second\n",
      "text \t NOUN \t 15099781594404091470 \t text\n",
      "for \t ADP \t 16037325823156266367 \t for\n",
      "the \t DET \t 7425985699627899538 \t the\n",
      "NLP \t PROPN \t 15832915187156881108 \t NLP\n",
      "Project \t PROPN \t 5641902175427286826 \t Project\n",
      "and \t CCONJ \t 2283656566040971221 \t and\n",
      "I \t PRON \t 4690420944186131903 \t I\n",
      "will \t AUX \t 18307573501153647118 \t will\n",
      "be \t AUX \t 10382539506755952630 \t be\n",
      "happy \t ADJ \t 244022080605231780 \t happy\n",
      "about \t ADP \t 942632335873952620 \t about\n",
      "that \t PRON \t 4380130941430378203 \t that\n"
     ]
    }
   ],
   "source": [
    "for token in doc2:\n",
    "    print(token.text, '\\t', token.pos_, '\\t', token.lemma, '\\t', token.lemma_)"
   ]
  },
  {
   "cell_type": "code",
   "execution_count": 58,
   "metadata": {},
   "outputs": [
    {
     "name": "stdout",
     "output_type": "stream",
     "text": [
      "{'about', 'anyone', 'empty', 'there', 'unless', 'be', 'fifty', 'someone', 'indeed', \"'ll\", 'please', 'such', 'within', 'seem', 'he', 'becoming', 'by', 'in', 'while', 'to', 'latterly', 'herself', 'beforehand', 'say', 'various', 'thereby', 'due', 'nowhere', 'alone', 'therefore', 'once', 'sixty', 'hereafter', 'neither', 'hers', 'seems', 'whoever', 'everyone', 'hereby', 'rather', 'than', 'elsewhere', \"'m\", 'when', 'whom', 'five', 'thence', 'third', 'until', 'whole', 'also', 'her', 'anyhow', 'everything', 'somehow', 'many', 'above', 'beyond', 'become', 'below', 'other', 'from', 'being', \"'re\", 'seeming', \"'s\", 'upon', 'will', 'during', 'we', 'then', 'no', 'amongst', 'never', 'without', 'with', 'anywhere', 'six', 'twenty', 'own', 'had', 'our', 'are', 'my', 'it', 'whereby', 'mostly', 'n‘t', '‘ve', 'on', 'latter', 'may', 'where', 'were', 'go', '’s', 'his', 'or', 'an', 'few', '’m', 'wherever', 'see', 'further', 'already', 'even', 'of', 'across', \"n't\", 'most', 'serious', 'is', 'meanwhile', 'almost', 'if', 'just', 'everywhere', 'make', 'becomes', 'perhaps', 'together', 'often', 'amount', 'and', 'side', 'yourself', 'mine', 'whose', 'not', 'behind', 'thereupon', 'how', 'always', 'up', 'last', 'somewhere', 'been', 'through', 'whereupon', 'still', 'least', 'take', 'enough', 'nine', 'myself', 'get', 'i', 'moreover', 'she', 'full', 'them', 'became', '‘d', 'must', 'forty', 'might', 'every', 'some', 'does', 'two', 'three', 'yours', 'wherein', 'ca', 'something', 'onto', 'seemed', 'can', 'per', 'fifteen', 'ourselves', 'twelve', 'hence', 'should', 'formerly', 'did', 'before', 'whither', 'into', 'whence', 'else', 'their', 'ever', 'therein', 'via', 'himself', 'thru', 'whatever', 'thus', 'at', 'itself', '’d', 'quite', 'nevertheless', '’ll', 'but', 'really', 'well', 'was', 'except', 'very', 'along', 'us', 'because', 'namely', 'name', 'besides', 'its', 'towards', 'although', 'beside', 'this', 'call', 'off', 'done', 'those', 'anyway', 'n’t', 'toward', 'sometime', 'nothing', 'former', 'give', 'throughout', 'could', 'that', 'anything', 'eleven', 'less', 'ten', 'down', 'whether', 'herein', 'show', 'have', 'since', 'made', 'next', '‘re', 'so', 'whereas', 'would', 'more', 'all', 'otherwise', 'between', 'others', 'however', 'though', 'back', 'move', 'using', '‘s', \"'ve\", 'after', 'hundred', 'afterwards', 'first', 'around', 'again', 'four', 'which', 'eight', 'among', 'too', 'used', 'top', 'am', 'noone', 'me', 'yet', 're', 'any', 'regarding', 'what', 'nobody', 'whereafter', 'hereupon', 'your', 'has', 'each', 'these', 'here', '’ve', 'whenever', 'yourselves', 'over', 'thereafter', 'why', 'you', 'out', 'same', 'him', 'as', 'who', 'part', '’re', 'against', '‘ll', 'under', 'they', 'doing', 'one', 'much', 'a', 'themselves', '‘m', 'cannot', 'do', 'none', 'the', 'put', \"'d\", 'keep', 'sometimes', 'for', 'front', 'ours', 'only', 'bottom', 'now', 'another', 'several', 'both', 'either', 'nor'}\n"
     ]
    }
   ],
   "source": [
    "print(nlp.Defaults.stop_words)"
   ]
  },
  {
   "cell_type": "code",
   "execution_count": 59,
   "metadata": {},
   "outputs": [
    {
     "data": {
      "text/plain": [
       "326"
      ]
     },
     "execution_count": 59,
     "metadata": {},
     "output_type": "execute_result"
    }
   ],
   "source": [
    "len(nlp.Defaults.stop_words)"
   ]
  },
  {
   "cell_type": "code",
   "execution_count": 60,
   "metadata": {},
   "outputs": [],
   "source": [
    "from spacy.matcher import Matcher"
   ]
  },
  {
   "cell_type": "code",
   "execution_count": 61,
   "metadata": {},
   "outputs": [],
   "source": [
    "matcher = Matcher(nlp.vocab)"
   ]
  },
  {
   "cell_type": "code",
   "execution_count": 63,
   "metadata": {},
   "outputs": [],
   "source": [
    "pattern1 = [{'LOWER':'solarpower'}]  #solarpower\n",
    "pattern2 = [{'LOWER':'solar'}, {'IS_PUNCT':True}, {'LOWER':'power'}]  #solar-power\n",
    "pattern3 = [{'LOWER':'solar'}, {'LOWER':'power'}]  #solar power"
   ]
  },
  {
   "cell_type": "code",
   "execution_count": 65,
   "metadata": {},
   "outputs": [],
   "source": [
    "from spacy.matcher import PhraseMatcher"
   ]
  },
  {
   "cell_type": "code",
   "execution_count": 66,
   "metadata": {},
   "outputs": [],
   "source": [
    "matcher = PhraseMatcher(nlp.vocab)"
   ]
  },
  {
   "cell_type": "code",
   "execution_count": 2,
   "metadata": {},
   "outputs": [],
   "source": [
    "from PIL import Image"
   ]
  },
  {
   "cell_type": "code",
   "execution_count": 4,
   "metadata": {},
   "outputs": [],
   "source": [
    "image0=Image.open('verb_noun_adj.png')"
   ]
  },
  {
   "cell_type": "code",
   "execution_count": 5,
   "metadata": {},
   "outputs": [
    {
     "data": {
      "image/jpeg": "[encoded data removed]",
      "image/png": "[encoded data removed]",
      "text/plain": [
       "<PIL.PngImagePlugin.PngImageFile image mode=RGB size=701x390>"
      ]
     },
     "execution_count": 5,
     "metadata": {},
     "output_type": "execute_result"
    }
   ],
   "source": [
    "image0"
   ]
  },
  {
   "cell_type": "code",
   "execution_count": 11,
   "metadata": {},
   "outputs": [],
   "source": [
    "import spacy"
   ]
  },
  {
   "cell_type": "code",
   "execution_count": 12,
   "metadata": {},
   "outputs": [],
   "source": [
    "nlp = spacy.load('en_core_web_sm')"
   ]
  },
  {
   "cell_type": "code",
   "execution_count": 13,
   "metadata": {},
   "outputs": [],
   "source": [
    "doc4 = nlp(u'1954 yılında, vakıf kaynaklarını ekonomik kalkınmanın ihtiyaçları doğrultusunda en iyi biçimde değerlendirmek amacıyla kurulan VakıfBank, o günden bu yana çağdaş bankacılık yöntemleri ve uygulamalarıyla Türkiye’nin tasarruf düzeyinin gelişim sürecine katkıda bulunmaktadır. VakıfBank; “Güçlü Türkiye’nin Lider Bankası” olma vizyonu doğrultusunda, vakıf kültüründen aldığı güçle, kendisine emanet edilen varlık ve değerleri etkin ve verimli yöneterek müşteriler, çalışanlar, hissedarlar ve topluma kattığı değerleri sürekli artırma misyonuyla hareket etmektedir.')"
   ]
  },
  {
   "cell_type": "code",
   "execution_count": 14,
   "metadata": {},
   "outputs": [
    {
     "name": "stdout",
     "output_type": "stream",
     "text": [
      "1954 yılında, vakıf kaynaklarını ekonomik kalkınmanın ihtiyaçları doğrultusunda en iyi biçimde değerlendirmek amacıyla kurulan VakıfBank, o günden bu yana çağdaş bankacılık yöntemleri ve uygulamalarıyla Türkiye’nin tasarruf düzeyinin gelişim sürecine katkıda bulunmaktadır. VakıfBank; “Güçlü Türkiye’nin Lider Bankası” olma vizyonu doğrultusunda, vakıf kültüründen aldığı güçle, kendisine emanet edilen varlık ve değerleri etkin ve verimli yöneterek müşteriler, çalışanlar, hissedarlar ve topluma kattığı değerleri sürekli artırma misyonuyla hareket etmektedir.\n"
     ]
    }
   ],
   "source": [
    "print(doc4.text)"
   ]
  },
  {
   "cell_type": "code",
   "execution_count": 15,
   "metadata": {},
   "outputs": [
    {
     "name": "stdout",
     "output_type": "stream",
     "text": [
      "1954       NUM        CD         cardinal number\n",
      "yılında    NOUN       NN         noun, singular or mass\n",
      ",          PUNCT      ,          punctuation mark, comma\n",
      "vakıf      PROPN      NNP        noun, proper singular\n",
      "kaynaklarını PROPN      NNP        noun, proper singular\n",
      "ekonomik   PROPN      NNP        noun, proper singular\n",
      "kalkınmanın PROPN      NNP        noun, proper singular\n",
      "ihtiyaçları PROPN      NNP        noun, proper singular\n",
      "doğrultusunda PROPN      NNP        noun, proper singular\n",
      "en         PROPN      NNP        noun, proper singular\n",
      "iyi        PROPN      NNP        noun, proper singular\n",
      "biçimde    PROPN      NNP        noun, proper singular\n",
      "değerlendirmek PROPN      NNP        noun, proper singular\n",
      "amacıyla   PROPN      NNP        noun, proper singular\n",
      "kurulan    PROPN      NNP        noun, proper singular\n",
      "VakıfBank  PROPN      NNP        noun, proper singular\n",
      ",          PUNCT      ,          punctuation mark, comma\n",
      "o          NOUN       NN         noun, singular or mass\n",
      "günden     ADJ        JJ         adjective (English), other noun-modifier (Chinese)\n",
      "bu         ADP        IN         conjunction, subordinating or preposition\n",
      "yana       PROPN      NNP        noun, proper singular\n",
      "çağdaş     PROPN      NNP        noun, proper singular\n",
      "bankacılık NOUN       NN         noun, singular or mass\n",
      "yöntemleri ADJ        JJ         adjective (English), other noun-modifier (Chinese)\n",
      "ve         AUX        VBP        verb, non-3rd person singular present\n",
      "uygulamalarıyla VERB       VB         verb, base form\n",
      "Türkiye’nin PROPN      NNP        noun, proper singular\n",
      "tasarruf   ADJ        JJ         adjective (English), other noun-modifier (Chinese)\n",
      "düzeyinin  ADJ        JJ         adjective (English), other noun-modifier (Chinese)\n",
      "gelişim    PROPN      NNP        noun, proper singular\n",
      "sürecine   PROPN      NNP        noun, proper singular\n",
      "katkıda    PROPN      NNP        noun, proper singular\n",
      "bulunmaktadır PROPN      NNP        noun, proper singular\n",
      ".          PUNCT      .          punctuation mark, sentence closer\n",
      "VakıfBank  PROPN      NNP        noun, proper singular\n",
      ";          PUNCT      :          punctuation mark, colon or ellipsis\n",
      "“          PUNCT      ``         opening quotation mark\n",
      "Güçlü      PROPN      NNP        noun, proper singular\n",
      "Türkiye’nin PROPN      NNP        noun, proper singular\n",
      "Lider      PROPN      NNP        noun, proper singular\n",
      "Bankası    PROPN      NNP        noun, proper singular\n",
      "”          PUNCT      ''         closing quotation mark\n",
      "olma       NOUN       NN         noun, singular or mass\n",
      "vizyonu    NOUN       NN         noun, singular or mass\n",
      "doğrultusunda NOUN       NN         noun, singular or mass\n",
      ",          PUNCT      ,          punctuation mark, comma\n",
      "vakıf      PROPN      NNP        noun, proper singular\n",
      "kültüründen PROPN      NNP        noun, proper singular\n",
      "aldığı     PROPN      NNP        noun, proper singular\n",
      "güçle      PROPN      NNP        noun, proper singular\n",
      ",          PUNCT      ,          punctuation mark, comma\n",
      "kendisine  PROPN      NNP        noun, proper singular\n",
      "emanet     PROPN      NNP        noun, proper singular\n",
      "edilen     VERB       VBN        verb, past participle\n",
      "varlık     NOUN       NN         noun, singular or mass\n",
      "ve         AUX        VBP        verb, non-3rd person singular present\n",
      "değerleri  PROPN      NNP        noun, proper singular\n",
      "etkin      NOUN       NN         noun, singular or mass\n",
      "ve         ADV        RB         adverb\n",
      "verimli    ADJ        JJ         adjective (English), other noun-modifier (Chinese)\n",
      "yöneterek  PROPN      NNP        noun, proper singular\n",
      "müşteriler PROPN      NNP        noun, proper singular\n",
      ",          PUNCT      ,          punctuation mark, comma\n",
      "çalışanlar NOUN       NN         noun, singular or mass\n",
      ",          PUNCT      ,          punctuation mark, comma\n",
      "hissedarlar NOUN       NN         noun, singular or mass\n",
      "ve         AUX        VBP        verb, non-3rd person singular present\n",
      "topluma    NOUN       NN         noun, singular or mass\n",
      "kattığı    VERB       VBD        verb, past tense\n",
      "değerleri  PROPN      NNP        noun, proper singular\n",
      "sürekli    NOUN       NN         noun, singular or mass\n",
      "artırma    NOUN       NN         noun, singular or mass\n",
      "misyonuyla NOUN       NN         noun, singular or mass\n",
      "hareket    NOUN       NN         noun, singular or mass\n",
      "etmektedir NOUN       NN         noun, singular or mass\n",
      ".          PUNCT      .          punctuation mark, sentence closer\n"
     ]
    }
   ],
   "source": [
    "for token in doc4:\n",
    "    print(f\"{token.text:{10}} {token.pos_:{10}} {token.tag_:{10}} {spacy.explain(token.tag_)}\")"
   ]
  },
  {
   "cell_type": "code",
   "execution_count": 16,
   "metadata": {},
   "outputs": [],
   "source": [
    "def show_ents(doc4):\n",
    "    if doc4.ents:\n",
    "        for ent in doc4.ents:\n",
    "            print(ent.text + ' - ' + ent.label_ + ' - ' +str(spacy.explain(ent.label_)))\n",
    "    else:\n",
    "        print('No entities found')"
   ]
  },
  {
   "cell_type": "code",
   "execution_count": 17,
   "metadata": {},
   "outputs": [
    {
     "name": "stdout",
     "output_type": "stream",
     "text": [
      "1954 - DATE - Absolute or relative dates or periods\n",
      "kaynaklarını ekonomik kalkınmanın - PERSON - People, including fictional\n",
      "doğrultusunda en - PERSON - People, including fictional\n",
      "biçimde değerlendirmek - ORG - Companies, agencies, institutions, etc.\n",
      "VakıfBank - ORG - Companies, agencies, institutions, etc.\n",
      "kültüründen aldığı güçle - ORG - Companies, agencies, institutions, etc.\n"
     ]
    }
   ],
   "source": [
    "show_ents(doc4)"
   ]
  },
  {
   "cell_type": "code",
   "execution_count": 18,
   "metadata": {},
   "outputs": [
    {
     "data": {
      "text/plain": [
       "[biçimde değerlendirmek, VakıfBank, kültüründen aldığı güçle]"
      ]
     },
     "execution_count": 18,
     "metadata": {},
     "output_type": "execute_result"
    }
   ],
   "source": [
    "([ent for ent in doc4.ents if ent.label_ == \"ORG\"])"
   ]
  },
  {
   "cell_type": "code",
   "execution_count": 22,
   "metadata": {},
   "outputs": [
    {
     "name": "stdout",
     "output_type": "stream",
     "text": [
      "1954 yılında, vakıf kaynaklarını ekonomik kalkınmanın ihtiyaçları doğrultusunda en iyi biçimde değerlendirmek amacıyla kurulan VakıfBank, o günden bu yana çağdaş bankacılık yöntemleri ve uygulamalarıyla Türkiye’nin tasarruf düzeyinin gelişim sürecine katkıda bulunmaktadır.\n",
      "VakıfBank; “Güçlü Türkiye’nin Lider Bankası” olma vizyonu doğrultusunda, vakıf kültüründen aldığı güçle, kendisine emanet edilen varlık ve değerleri etkin ve verimli yöneterek müşteriler, çalışanlar, hissedarlar ve topluma kattığı değerleri sürekli artırma misyonuyla hareket etmektedir.\n"
     ]
    }
   ],
   "source": [
    "for sent in doc4.sents:\n",
    "    print(sent)"
   ]
  },
  {
   "cell_type": "code",
   "execution_count": 23,
   "metadata": {},
   "outputs": [],
   "source": [
    "def set_custom_boundaries(doc4):\n",
    "    for token in doc4:\n",
    "        print(token)\n",
    "        print(token.i)"
   ]
  },
  {
   "cell_type": "code",
   "execution_count": 24,
   "metadata": {},
   "outputs": [
    {
     "name": "stdout",
     "output_type": "stream",
     "text": [
      "1954\n",
      "0\n",
      "yılında\n",
      "1\n",
      ",\n",
      "2\n",
      "vakıf\n",
      "3\n",
      "kaynaklarını\n",
      "4\n",
      "ekonomik\n",
      "5\n",
      "kalkınmanın\n",
      "6\n",
      "ihtiyaçları\n",
      "7\n",
      "doğrultusunda\n",
      "8\n",
      "en\n",
      "9\n",
      "iyi\n",
      "10\n",
      "biçimde\n",
      "11\n",
      "değerlendirmek\n",
      "12\n",
      "amacıyla\n",
      "13\n",
      "kurulan\n",
      "14\n",
      "VakıfBank\n",
      "15\n",
      ",\n",
      "16\n",
      "o\n",
      "17\n",
      "günden\n",
      "18\n",
      "bu\n",
      "19\n",
      "yana\n",
      "20\n",
      "çağdaş\n",
      "21\n",
      "bankacılık\n",
      "22\n",
      "yöntemleri\n",
      "23\n",
      "ve\n",
      "24\n",
      "uygulamalarıyla\n",
      "25\n",
      "Türkiye’nin\n",
      "26\n",
      "tasarruf\n",
      "27\n",
      "düzeyinin\n",
      "28\n",
      "gelişim\n",
      "29\n",
      "sürecine\n",
      "30\n",
      "katkıda\n",
      "31\n",
      "bulunmaktadır\n",
      "32\n",
      ".\n",
      "33\n",
      "VakıfBank\n",
      "34\n",
      ";\n",
      "35\n",
      "“\n",
      "36\n",
      "Güçlü\n",
      "37\n",
      "Türkiye’nin\n",
      "38\n",
      "Lider\n",
      "39\n",
      "Bankası\n",
      "40\n",
      "”\n",
      "41\n",
      "olma\n",
      "42\n",
      "vizyonu\n",
      "43\n",
      "doğrultusunda\n",
      "44\n",
      ",\n",
      "45\n",
      "vakıf\n",
      "46\n",
      "kültüründen\n",
      "47\n",
      "aldığı\n",
      "48\n",
      "güçle\n",
      "49\n",
      ",\n",
      "50\n",
      "kendisine\n",
      "51\n",
      "emanet\n",
      "52\n",
      "edilen\n",
      "53\n",
      "varlık\n",
      "54\n",
      "ve\n",
      "55\n",
      "değerleri\n",
      "56\n",
      "etkin\n",
      "57\n",
      "ve\n",
      "58\n",
      "verimli\n",
      "59\n",
      "yöneterek\n",
      "60\n",
      "müşteriler\n",
      "61\n",
      ",\n",
      "62\n",
      "çalışanlar\n",
      "63\n",
      ",\n",
      "64\n",
      "hissedarlar\n",
      "65\n",
      "ve\n",
      "66\n",
      "topluma\n",
      "67\n",
      "kattığı\n",
      "68\n",
      "değerleri\n",
      "69\n",
      "sürekli\n",
      "70\n",
      "artırma\n",
      "71\n",
      "misyonuyla\n",
      "72\n",
      "hareket\n",
      "73\n",
      "etmektedir\n",
      "74\n",
      ".\n",
      "75\n"
     ]
    }
   ],
   "source": [
    "set_custom_boundaries(doc4)"
   ]
  },
  {
   "cell_type": "code",
   "execution_count": 21,
   "metadata": {},
   "outputs": [],
   "source": [
    "import numpy as np "
   ]
  },
  {
   "cell_type": "code",
   "execution_count": 22,
   "metadata": {},
   "outputs": [],
   "source": [
    "import pandas as pd"
   ]
  },
  {
   "cell_type": "code",
   "execution_count": 23,
   "metadata": {},
   "outputs": [],
   "source": [
    "df = pd.read_excel(r'D:\\Users\\vb40976\\Desktop\\pythonProject\\08.11.2024 TBB ŞUBE LİSTESİ.xlsx')\n"
   ]
  },
  {
   "cell_type": "code",
   "execution_count": 25,
   "metadata": {},
   "outputs": [
    {
     "data": {
      "text/html": [
       "<div>\n",
       "<style scoped>\n",
       "    .dataframe tbody tr th:only-of-type {\n",
       "        vertical-align: middle;\n",
       "    }\n",
       "\n",
       "    .dataframe tbody tr th {\n",
       "        vertical-align: top;\n",
       "    }\n",
       "\n",
       "    .dataframe thead th {\n",
       "        text-align: right;\n",
       "    }\n",
       "</style>\n",
       "<table border=\"1\" class=\"dataframe\">\n",
       "  <thead>\n",
       "    <tr style=\"text-align: right;\">\n",
       "      <th></th>\n",
       "      <th>Banka</th>\n",
       "      <th>Şube Adı</th>\n",
       "      <th>Adres</th>\n",
       "      <th>İlçe</th>\n",
       "      <th>Şehir</th>\n",
       "      <th>Telefon</th>\n",
       "      <th>Faks</th>\n",
       "      <th>Açılış</th>\n",
       "    </tr>\n",
       "  </thead>\n",
       "  <tbody>\n",
       "    <tr>\n",
       "      <th>0</th>\n",
       "      <td>Akbank T.A.Ş.</td>\n",
       "      <td>Ceyhan</td>\n",
       "      <td>Atatürk Cad. No : 262</td>\n",
       "      <td>Ceyhan</td>\n",
       "      <td>Adana</td>\n",
       "      <td>322-6131010</td>\n",
       "      <td>322-6132678</td>\n",
       "      <td>1948-07-14 00:00:00</td>\n",
       "    </tr>\n",
       "    <tr>\n",
       "      <th>1</th>\n",
       "      <td>Akbank T.A.Ş.</td>\n",
       "      <td>Mahfesığmaz</td>\n",
       "      <td>Kenan Evren Bulvarı Mahfesığmaz Mah. 40 Sok. B...</td>\n",
       "      <td>Çukurova</td>\n",
       "      <td>Adana</td>\n",
       "      <td>322-2353530</td>\n",
       "      <td>322-2333710</td>\n",
       "      <td>2004-07-13 00:00:00</td>\n",
       "    </tr>\n",
       "    <tr>\n",
       "      <th>2</th>\n",
       "      <td>Akbank T.A.Ş.</td>\n",
       "      <td>Toros</td>\n",
       "      <td>Toros Mah. Turgut Özal Bulvarı Kemal Akdoğan S...</td>\n",
       "      <td>Çukurova</td>\n",
       "      <td>Adana</td>\n",
       "      <td>322-2323768</td>\n",
       "      <td>322-2323770</td>\n",
       "      <td>1999-10-05 00:00:00</td>\n",
       "    </tr>\n",
       "    <tr>\n",
       "      <th>3</th>\n",
       "      <td>Akbank T.A.Ş.</td>\n",
       "      <td>Türkmenbaşı</td>\n",
       "      <td>Huzurevleri Mah. Türkmenbaşı Bulvarı Teras Res...</td>\n",
       "      <td>Çukurova</td>\n",
       "      <td>Adana</td>\n",
       "      <td>322-2399010</td>\n",
       "      <td>322-2399022</td>\n",
       "      <td>2013-07-23 00:00:00</td>\n",
       "    </tr>\n",
       "    <tr>\n",
       "      <th>4</th>\n",
       "      <td>Akbank T.A.Ş.</td>\n",
       "      <td>Yeni Adana</td>\n",
       "      <td>Toros Mahallesi Turgut Özal Bulvarı No: 187/A</td>\n",
       "      <td>Çukurova</td>\n",
       "      <td>Adana</td>\n",
       "      <td>322-2487331</td>\n",
       "      <td>322-2390076</td>\n",
       "      <td>2006-12-05 00:00:00</td>\n",
       "    </tr>\n",
       "    <tr>\n",
       "      <th>5</th>\n",
       "      <td>Akbank T.A.Ş.</td>\n",
       "      <td>Kozan</td>\n",
       "      <td>Tufanpaşa Mahallesi Üstün Sokak No:7</td>\n",
       "      <td>Kozan</td>\n",
       "      <td>Adana</td>\n",
       "      <td>322-5158618</td>\n",
       "      <td>322-5152028</td>\n",
       "      <td>1972-12-12 00:00:00</td>\n",
       "    </tr>\n",
       "    <tr>\n",
       "      <th>6</th>\n",
       "      <td>Akbank T.A.Ş.</td>\n",
       "      <td>Adana</td>\n",
       "      <td>Çınarlı Mahallesi Atatürk Caddesi No: 13</td>\n",
       "      <td>Seyhan</td>\n",
       "      <td>Adana</td>\n",
       "      <td>322-3553100</td>\n",
       "      <td>322-3631035</td>\n",
       "      <td>1948-01-30 00:00:00</td>\n",
       "    </tr>\n",
       "    <tr>\n",
       "      <th>7</th>\n",
       "      <td>Akbank T.A.Ş.</td>\n",
       "      <td>Adana Ticari</td>\n",
       "      <td>Döşeme Mahallesi Dr. Ali Menteşoğlu Caddesi No...</td>\n",
       "      <td>Seyhan</td>\n",
       "      <td>Adana</td>\n",
       "      <td>322-3553150</td>\n",
       "      <td>322-3630978</td>\n",
       "      <td>2004-06-01 00:00:00</td>\n",
       "    </tr>\n",
       "    <tr>\n",
       "      <th>8</th>\n",
       "      <td>Akbank T.A.Ş.</td>\n",
       "      <td>Atatürk Caddesi / Adana</td>\n",
       "      <td>Reşatbey Mahallesi Atatürk Caddesi 18/1A</td>\n",
       "      <td>Seyhan</td>\n",
       "      <td>Adana</td>\n",
       "      <td>322-4543775</td>\n",
       "      <td>322-4590492</td>\n",
       "      <td>1972-11-15 00:00:00</td>\n",
       "    </tr>\n",
       "    <tr>\n",
       "      <th>9</th>\n",
       "      <td>Akbank T.A.Ş.</td>\n",
       "      <td>Barajyolu</td>\n",
       "      <td>Yeni Baraj Mah. Şehit Yüzbaşı Bülent Angın Bul...</td>\n",
       "      <td>Seyhan</td>\n",
       "      <td>Adana</td>\n",
       "      <td>322-2255024</td>\n",
       "      <td>322-2254734</td>\n",
       "      <td>1999-10-05 00:00:00</td>\n",
       "    </tr>\n",
       "    <tr>\n",
       "      <th>10</th>\n",
       "      <td>Akbank T.A.Ş.</td>\n",
       "      <td>Barkal</td>\n",
       "      <td>Sakarya Mahallesi Turan Cemal Beriker Bulvarı ...</td>\n",
       "      <td>Seyhan</td>\n",
       "      <td>Adana</td>\n",
       "      <td>322-4329343</td>\n",
       "      <td>322-4353191</td>\n",
       "      <td>1986-01-20 00:00:00</td>\n",
       "    </tr>\n",
       "    <tr>\n",
       "      <th>11</th>\n",
       "      <td>Akbank T.A.Ş.</td>\n",
       "      <td>Cemalpaşa</td>\n",
       "      <td>Baraj Cad. No : 41</td>\n",
       "      <td>Seyhan</td>\n",
       "      <td>Adana</td>\n",
       "      <td>322-4562580</td>\n",
       "      <td>322-4596348</td>\n",
       "      <td>1971-06-30 00:00:00</td>\n",
       "    </tr>\n",
       "    <tr>\n",
       "      <th>12</th>\n",
       "      <td>Akbank T.A.Ş.</td>\n",
       "      <td>Gazipaşa Bulvarı / Adana</td>\n",
       "      <td>Cemalpaşa Mah. 63005 Sok. No: 5A</td>\n",
       "      <td>Seyhan</td>\n",
       "      <td>Adana</td>\n",
       "      <td>322-4582020</td>\n",
       "      <td>322-4574289</td>\n",
       "      <td>1990-03-12 00:00:00</td>\n",
       "    </tr>\n",
       "    <tr>\n",
       "      <th>13</th>\n",
       "      <td>Akbank T.A.Ş.</td>\n",
       "      <td>Küçüksaat</td>\n",
       "      <td>Abidinpaşa Cad. No : 36</td>\n",
       "      <td>Seyhan</td>\n",
       "      <td>Adana</td>\n",
       "      <td>322-3554500</td>\n",
       "      <td>322-3524225</td>\n",
       "      <td>1966-07-25 00:00:00</td>\n",
       "    </tr>\n",
       "    <tr>\n",
       "      <th>14</th>\n",
       "      <td>Akbank T.A.Ş.</td>\n",
       "      <td>Saydam Caddesi</td>\n",
       "      <td>Saydam Cad. No : 101</td>\n",
       "      <td>Seyhan</td>\n",
       "      <td>Adana</td>\n",
       "      <td>322-3519502</td>\n",
       "      <td>322-3599380</td>\n",
       "      <td>1973-06-04 00:00:00</td>\n",
       "    </tr>\n",
       "    <tr>\n",
       "      <th>15</th>\n",
       "      <td>Akbank T.A.Ş.</td>\n",
       "      <td>Yeni Toptancı Hali</td>\n",
       "      <td>Turhan Cemal Bekirer Bulvarı Vedat Dalokay Hal...</td>\n",
       "      <td>Seyhan</td>\n",
       "      <td>Adana</td>\n",
       "      <td>322-4285426</td>\n",
       "      <td>322-4286091</td>\n",
       "      <td>1993-06-14 00:00:00</td>\n",
       "    </tr>\n",
       "    <tr>\n",
       "      <th>16</th>\n",
       "      <td>Akbank T.A.Ş.</td>\n",
       "      <td>Yüzevler</td>\n",
       "      <td>Kurtuluş Mahallesi Şinasi Efendi Caddesi No: 25/A</td>\n",
       "      <td>Seyhan</td>\n",
       "      <td>Adana</td>\n",
       "      <td>322-4552300</td>\n",
       "      <td>322-4590163</td>\n",
       "      <td>1970-12-28 00:00:00</td>\n",
       "    </tr>\n",
       "    <tr>\n",
       "      <th>17</th>\n",
       "      <td>Akbank T.A.Ş.</td>\n",
       "      <td>Hacı Sabancı Organize Sanayi Bölgesi</td>\n",
       "      <td>Hacı Sabancı Org. San. Bölgesi Suluca Mevii</td>\n",
       "      <td>Yüreğir</td>\n",
       "      <td>Adana</td>\n",
       "      <td>322-3944204</td>\n",
       "      <td>322-3944208</td>\n",
       "      <td>1999-12-27 00:00:00</td>\n",
       "    </tr>\n",
       "    <tr>\n",
       "      <th>18</th>\n",
       "      <td>Akbank T.A.Ş.</td>\n",
       "      <td>Karşıyaka / Adana</td>\n",
       "      <td>İlbey Güneş Cad. No :1 Hiltonsa Altı</td>\n",
       "      <td>Yüreğir</td>\n",
       "      <td>Adana</td>\n",
       "      <td>322-3211019</td>\n",
       "      <td>322-3211022</td>\n",
       "      <td>1962-08-06 00:00:00</td>\n",
       "    </tr>\n",
       "    <tr>\n",
       "      <th>19</th>\n",
       "      <td>Akbank T.A.Ş.</td>\n",
       "      <td>Yavuzlar</td>\n",
       "      <td>Tahsilli Mah. Kozan Cad. No : 415</td>\n",
       "      <td>Yüreğir</td>\n",
       "      <td>Adana</td>\n",
       "      <td>322-3213624</td>\n",
       "      <td>322-3227600</td>\n",
       "      <td>1973-09-10 00:00:00</td>\n",
       "    </tr>\n",
       "  </tbody>\n",
       "</table>\n",
       "</div>"
      ],
      "text/plain": [
       "            Banka  ...               Açılış\n",
       "0   Akbank T.A.Ş.  ...  1948-07-14 00:00:00\n",
       "1   Akbank T.A.Ş.  ...  2004-07-13 00:00:00\n",
       "2   Akbank T.A.Ş.  ...  1999-10-05 00:00:00\n",
       "3   Akbank T.A.Ş.  ...  2013-07-23 00:00:00\n",
       "4   Akbank T.A.Ş.  ...  2006-12-05 00:00:00\n",
       "5   Akbank T.A.Ş.  ...  1972-12-12 00:00:00\n",
       "6   Akbank T.A.Ş.  ...  1948-01-30 00:00:00\n",
       "7   Akbank T.A.Ş.  ...  2004-06-01 00:00:00\n",
       "8   Akbank T.A.Ş.  ...  1972-11-15 00:00:00\n",
       "9   Akbank T.A.Ş.  ...  1999-10-05 00:00:00\n",
       "10  Akbank T.A.Ş.  ...  1986-01-20 00:00:00\n",
       "11  Akbank T.A.Ş.  ...  1971-06-30 00:00:00\n",
       "12  Akbank T.A.Ş.  ...  1990-03-12 00:00:00\n",
       "13  Akbank T.A.Ş.  ...  1966-07-25 00:00:00\n",
       "14  Akbank T.A.Ş.  ...  1973-06-04 00:00:00\n",
       "15  Akbank T.A.Ş.  ...  1993-06-14 00:00:00\n",
       "16  Akbank T.A.Ş.  ...  1970-12-28 00:00:00\n",
       "17  Akbank T.A.Ş.  ...  1999-12-27 00:00:00\n",
       "18  Akbank T.A.Ş.  ...  1962-08-06 00:00:00\n",
       "19  Akbank T.A.Ş.  ...  1973-09-10 00:00:00\n",
       "\n",
       "[20 rows x 8 columns]"
      ]
     },
     "execution_count": 25,
     "metadata": {},
     "output_type": "execute_result"
    }
   ],
   "source": [
    "df.head(20)"
   ]
  },
  {
   "cell_type": "code",
   "execution_count": 28,
   "metadata": {},
   "outputs": [
    {
     "data": {
      "text/plain": [
       "0                        Ceyhan\n",
       "1                   Mahfesığmaz\n",
       "2                         Toros\n",
       "3                   Türkmenbaşı\n",
       "4                    Yeni Adana\n",
       "                 ...           \n",
       "9368             Çaycuma Şubesi\n",
       "9369              Devrek Şubesi\n",
       "9370       Ereğli Bulvar Şubesi\n",
       "9371    Karadeniz Ereğli Şubesi\n",
       "9372           Zonguldak Şubesi\n",
       "Name: Şube Adı, Length: 9373, dtype: object"
      ]
     },
     "execution_count": 28,
     "metadata": {},
     "output_type": "execute_result"
    }
   ],
   "source": [
    "df['Şube Adı']"
   ]
  },
  {
   "cell_type": "code",
   "execution_count": 39,
   "metadata": {},
   "outputs": [],
   "source": [
    "from sklearn.model_selection import train_test_split"
   ]
  },
  {
   "cell_type": "code",
   "execution_count": 40,
   "metadata": {},
   "outputs": [],
   "source": [
    "from sklearn.linear_model import LogisticRegression"
   ]
  },
  {
   "cell_type": "code",
   "execution_count": 1,
   "metadata": {},
   "outputs": [],
   "source": [
    "from sklearn import metrics"
   ]
  },
  {
   "cell_type": "code",
   "execution_count": 7,
   "metadata": {},
   "outputs": [
    {
     "name": "stdout",
     "output_type": "stream",
     "text": [
      "Overwriting 1.txt\n"
     ]
    }
   ],
   "source": [
    "%%writefile 1.txt\n",
    "VakıfBank, bireysel ve kurumsal müşterilerine ülke çapına yayılan 900’ün üzerinde şubesinin yanı sıra ileri teknolojiyle desteklenen alternatif dağıtım kanalları aracılığıyla hizmet sunmaktadır. VakıfBank’ın ABD New York, Kuzey Irak Erbil, Katar Doha şubelerinin yanı sıra Bahreyn’de kıyı bankacılığı şubesi bulunmaktadır. Ayrıca VakıfBank’ın iştirak portföyünde, biri merkezi Avusturya’da bulunan VakıfBank International AG (Viyana Şubesi ve Almanya’da Köln ile Frankfurt Şubesi ve Budapeşte Temsilciliği) olmak üzere Vakıf Faktoring A.Ş., Vakıf Finansal Kiralama A.Ş., Vakıf Gayrimenkul Yatırım Ortaklığı A.Ş., Vakıf Menkul Kıymet Yat. Ort. A.Ş., Vakıf Yatırım Menkul Değerler A.Ş. Vakıf Pazarlama San. ve Ticaret A.Ş., Taksim Otelcilik A.Ş., Vakıf Enerji ve Madencilik A.Ş., Vakıf Gayrimenkul Değerleme A.Ş. ve Vakıf Elektronik Para ve Ödeme Hizmetleri AŞ bulunmaktadır."
   ]
  },
  {
   "cell_type": "code",
   "execution_count": 8,
   "metadata": {},
   "outputs": [
    {
     "name": "stdout",
     "output_type": "stream",
     "text": [
      "Overwriting 2.txt\n"
     ]
    }
   ],
   "source": [
    "%%writefile 2.txt\n",
    "2005 yılında uygulamaya koyduğu Değişim ve Yeniden Yapılandırma Programı’yla kapsamlı bir değişim ve gelişim sürecine giren VakıfBank, iş süreçlerini gözden geçirerek operasyonel işlemleri tek merkezde toplamış, böylelikle tümüyle satış ve pazarlamaya yönlendirdiği şubelerinde hizmet kalitesini artırmıştır. O günden bu yana müşteri odaklı bir anlayışla sürdürülebilir büyüme stratejisi doğrultusunda altyapısını, iş süreçlerini ve hizmet anlayışını daha da geliştirebilmek için adımlar atmıştır. VakıfBank’ın 2008 yılında yenilediği kurumsal kimliği, büyük bir başarıyla gerçekleştirdiği köklü değişim sürecini yansıtmaktadır. Müşteri odaklı bankacılık felsefesi ise 2009 yılının başından itibaren kurumsal tanıtımına eşlik eden “Burası sizin yeriniz” söylemine, 2011 yılında “Halden Anlayan Banka” konsepti eklenmiştir. Tam anlamıyla herkesin, tüm Türkiye’nin yeri olan VakıfBank, “Burası sizin yeriniz” demekten vazgeçmeyerek halden anlamayı bir adım ileri taşımıştır. Liderlik vizyonuna, finansal gücünü ekleyerek 2017 yılında “Yanındaki Güç”; 2020 yılında ise “Daima Seninle” söylemini sahiplenen VakıfBank, her zaman ve her durumda paydaşlarıyla birlikte olduğunun altını çizmiştir. Böylelikle halden anlamayla başlayıp yanındaki güç ile devam eden süreç, daima seninle halkasıyla tamamlanmıştır."
   ]
  },
  {
   "cell_type": "code",
   "execution_count": 10,
   "metadata": {},
   "outputs": [
    {
     "name": "stdout",
     "output_type": "stream",
     "text": [
      "{'vakıfbank,': 1, 'bireysel': 2, 've': 3, 'kurumsal': 4, 'müşterilerine': 5, 'ülke': 6, 'çapına': 7, 'yayılan': 8, '900’ün': 9, 'üzerinde': 10, 'şubesinin': 11, 'yanı': 12, 'sıra': 13, 'ileri': 14, 'teknolojiyle': 15, 'desteklenen': 16, 'alternatif': 17, 'dağıtım': 18, 'kanalları': 19, 'aracılığıyla': 20, 'hizmet': 21, 'sunmaktadır.': 22, 'vakıfbank’ın': 23, 'abd': 24, 'new': 25, 'york,': 26, 'kuzey': 27, 'irak': 28, 'erbil,': 29, 'katar': 30, 'doha': 31, 'şubelerinin': 32, 'bahreyn’de': 33, 'kıyı': 34, 'bankacılığı': 35, 'şubesi': 36, 'bulunmaktadır.': 37, 'ayrıca': 38, 'iştirak': 39, 'portföyünde,': 40, 'biri': 41, 'merkezi': 42, 'avusturya’da': 43, 'bulunan': 44, 'vakıfbank': 45, 'international': 46, 'ag': 47, '(viyana': 48, 'almanya’da': 49, 'köln': 50, 'ile': 51, 'frankfurt': 52, 'budapeşte': 53, 'temsilciliği)': 54, 'olmak': 55, 'üzere': 56, 'vakıf': 57, 'faktoring': 58, 'a.ş.,': 59, 'finansal': 60, 'kiralama': 61, 'gayrimenkul': 62, 'yatırım': 63, 'ortaklığı': 64, 'menkul': 65, 'kıymet': 66, 'yat.': 67, 'ort.': 68, 'değerler': 69, 'a.ş.': 70, 'pazarlama': 71, 'san.': 72, 'ticaret': 73, 'taksim': 74, 'otelcilik': 75, 'enerji': 76, 'madencilik': 77, 'değerleme': 78, 'elektronik': 79, 'para': 80, 'ödeme': 81, 'hizmetleri': 82, 'aş': 83}\n"
     ]
    }
   ],
   "source": [
    "vocab = {}\n",
    "i = 1\n",
    "\n",
    "with open('1.txt', encoding='utf-8') as f:\n",
    "    x = f.read().lower().split()\n",
    "\n",
    "for word in x:\n",
    "    if word in vocab:\n",
    "        continue\n",
    "    else:\n",
    "        vocab[word]=i\n",
    "        i+=1\n",
    "\n",
    "print(vocab)"
   ]
  },
  {
   "cell_type": "code",
   "execution_count": 15,
   "metadata": {},
   "outputs": [
    {
     "name": "stdout",
     "output_type": "stream",
     "text": [
      "{'2005': 1, 'yılında': 2, 'uygulamaya': 3, 'koyduğu': 4, 'değişim': 5, 've': 6, 'yeniden': 7, 'yapılandırma': 8, 'programı’yla': 9, 'kapsamlı': 10, 'bir': 11, 'gelişim': 12, 'sürecine': 13, 'giren': 14, 'vakıfbank,': 15, 'iş': 16, 'süreçlerini': 17, 'gözden': 18, 'geçirerek': 19, 'operasyonel': 20, 'işlemleri': 21, 'tek': 22, 'merkezde': 23, 'toplamış,': 24, 'böylelikle': 25, 'tümüyle': 26, 'satış': 27, 'pazarlamaya': 28, 'yönlendirdiği': 29, 'şubelerinde': 30, 'hizmet': 31, 'kalitesini': 32, 'artırmıştır.': 33, 'o': 34, 'günden': 35, 'bu': 36, 'yana': 37, 'müşteri': 38, 'odaklı': 39, 'anlayışla': 40, 'sürdürülebilir': 41, 'büyüme': 42, 'stratejisi': 43, 'doğrultusunda': 44, 'altyapısını,': 45, 'anlayışını': 46, 'daha': 47, 'da': 48, 'geliştirebilmek': 49, 'için': 50, 'adımlar': 51, 'atmıştır.': 52, 'vakıfbank’ın': 53, '2008': 54, 'yenilediği': 55, 'kurumsal': 56, 'kimliği,': 57, 'büyük': 58, 'başarıyla': 59, 'gerçekleştirdiği': 60, 'köklü': 61, 'sürecini': 62, 'yansıtmaktadır.': 63, 'bankacılık': 64, 'felsefesi': 65, 'ise': 66, '2009': 67, 'yılının': 68, 'başından': 69, 'itibaren': 70, 'tanıtımına': 71, 'eşlik': 72, 'eden': 73, '“burası': 74, 'sizin': 75, 'yeriniz”': 76, 'söylemine,': 77, '2011': 78, '“halden': 79, 'anlayan': 80, 'banka”': 81, 'konsepti': 82, 'eklenmiştir.': 83, 'tam': 84, 'anlamıyla': 85, 'herkesin,': 86, 'tüm': 87, 'türkiye’nin': 88, 'yeri': 89, 'olan': 90, 'demekten': 91, 'vazgeçmeyerek': 92, 'halden': 93, 'anlamayı': 94, 'adım': 95, 'ileri': 96, 'taşımıştır.': 97, 'liderlik': 98, 'vizyonuna,': 99, 'finansal': 100, 'gücünü': 101, 'ekleyerek': 102, '2017': 103, '“yanındaki': 104, 'güç”;': 105, '2020': 106, '“daima': 107, 'seninle”': 108, 'söylemini': 109, 'sahiplenen': 110, 'her': 111, 'zaman': 112, 'durumda': 113, 'paydaşlarıyla': 114, 'birlikte': 115, 'olduğunun': 116, 'altını': 117, 'çizmiştir.': 118, 'anlamayla': 119, 'başlayıp': 120, 'yanındaki': 121, 'güç': 122, 'ile': 123, 'devam': 124, 'süreç,': 125, 'daima': 126, 'seninle': 127, 'halkasıyla': 128, 'tamamlanmıştır.': 129}\n"
     ]
    }
   ],
   "source": [
    "vocab = {}\n",
    "i = 1\n",
    "\n",
    "with open('2.txt', encoding='utf-8') as f:\n",
    "    x = f.read().lower().split()\n",
    "\n",
    "for word in x:\n",
    "    if word in vocab:\n",
    "        continue\n",
    "    else:\n",
    "        vocab[word]=i\n",
    "        i+=1\n",
    "\n",
    "print(vocab)"
   ]
  },
  {
   "cell_type": "code",
   "execution_count": 11,
   "metadata": {},
   "outputs": [
    {
     "data": {
      "text/plain": [
       "['1.txt',\n",
       " 0,\n",
       " 0,\n",
       " 0,\n",
       " 0,\n",
       " 0,\n",
       " 0,\n",
       " 0,\n",
       " 0,\n",
       " 0,\n",
       " 0,\n",
       " 0,\n",
       " 0,\n",
       " 0,\n",
       " 0,\n",
       " 0,\n",
       " 0,\n",
       " 0,\n",
       " 0,\n",
       " 0,\n",
       " 0,\n",
       " 0,\n",
       " 0,\n",
       " 0,\n",
       " 0,\n",
       " 0,\n",
       " 0,\n",
       " 0,\n",
       " 0,\n",
       " 0,\n",
       " 0,\n",
       " 0,\n",
       " 0,\n",
       " 0,\n",
       " 0,\n",
       " 0,\n",
       " 0,\n",
       " 0,\n",
       " 0,\n",
       " 0,\n",
       " 0,\n",
       " 0,\n",
       " 0,\n",
       " 0,\n",
       " 0,\n",
       " 0,\n",
       " 0,\n",
       " 0,\n",
       " 0,\n",
       " 0,\n",
       " 0,\n",
       " 0,\n",
       " 0,\n",
       " 0,\n",
       " 0,\n",
       " 0,\n",
       " 0,\n",
       " 0,\n",
       " 0,\n",
       " 0,\n",
       " 0,\n",
       " 0,\n",
       " 0,\n",
       " 0,\n",
       " 0,\n",
       " 0,\n",
       " 0,\n",
       " 0,\n",
       " 0,\n",
       " 0,\n",
       " 0,\n",
       " 0,\n",
       " 0,\n",
       " 0,\n",
       " 0,\n",
       " 0,\n",
       " 0,\n",
       " 0,\n",
       " 0,\n",
       " 0,\n",
       " 0,\n",
       " 0,\n",
       " 0,\n",
       " 0]"
      ]
     },
     "execution_count": 11,
     "metadata": {},
     "output_type": "execute_result"
    }
   ],
   "source": [
    "one = ['1.txt']+[0]*len(vocab)\n",
    "one"
   ]
  },
  {
   "cell_type": "code",
   "execution_count": 4,
   "metadata": {},
   "outputs": [],
   "source": [
    "from sklearn.model_selection import train_test_split"
   ]
  },
  {
   "cell_type": "code",
   "execution_count": 5,
   "metadata": {},
   "outputs": [],
   "source": [
    "from sklearn.feature_extraction.text import CountVectorizer"
   ]
  },
  {
   "cell_type": "code",
   "execution_count": 6,
   "metadata": {},
   "outputs": [],
   "source": [
    "count_vect = CountVectorizer()"
   ]
  },
  {
   "cell_type": "code",
   "execution_count": 10,
   "metadata": {},
   "outputs": [],
   "source": [
    "import spacy"
   ]
  },
  {
   "cell_type": "code",
   "execution_count": 12,
   "metadata": {},
   "outputs": [],
   "source": [
    "import spacy.cli"
   ]
  },
  {
   "cell_type": "code",
   "execution_count": 14,
   "metadata": {},
   "outputs": [],
   "source": [
    "import nltk"
   ]
  },
  {
   "cell_type": "code",
   "execution_count": 15,
   "metadata": {},
   "outputs": [],
   "source": [
    "from nltk.sentiment.vader import SentimentIntensityAnalyzer"
   ]
  },
  {
   "cell_type": "code",
   "execution_count": 17,
   "metadata": {},
   "outputs": [
    {
     "name": "stdout",
     "output_type": "stream",
     "text": [
      "showing info https://raw.githubusercontent.com/nltk/nltk_data/gh-pages/index.xml\n"
     ]
    },
    {
     "data": {
      "text/plain": [
       "True"
      ]
     },
     "execution_count": 17,
     "metadata": {},
     "output_type": "execute_result"
    }
   ],
   "source": [
    "nltk.download()"
   ]
  },
  {
   "cell_type": "code",
   "execution_count": 19,
   "metadata": {},
   "outputs": [
    {
     "name": "stderr",
     "output_type": "stream",
     "text": [
      "[nltk_data] Downloading package stopwords to\n",
      "[nltk_data]     D:\\Users\\vb40976\\AppData\\Roaming\\nltk_data...\n",
      "[nltk_data]   Unzipping corpora\\stopwords.zip.\n"
     ]
    },
    {
     "data": {
      "text/plain": [
       "True"
      ]
     },
     "execution_count": 19,
     "metadata": {},
     "output_type": "execute_result"
    }
   ],
   "source": [
    "nltk.download('stopwords')"
   ]
  },
  {
   "cell_type": "code",
   "execution_count": 29,
   "metadata": {},
   "outputs": [],
   "source": [
    "import numpy as np"
   ]
  },
  {
   "cell_type": "code",
   "execution_count": 30,
   "metadata": {},
   "outputs": [],
   "source": [
    "from sklearn.datasets import load_iris"
   ]
  },
  {
   "cell_type": "code",
   "execution_count": 31,
   "metadata": {},
   "outputs": [],
   "source": [
    "iris = load_iris()"
   ]
  },
  {
   "cell_type": "code",
   "execution_count": 32,
   "metadata": {},
   "outputs": [
    {
     "name": "stdout",
     "output_type": "stream",
     "text": [
      ".. _iris_dataset:\n",
      "\n",
      "Iris plants dataset\n",
      "--------------------\n",
      "\n",
      "**Data Set Characteristics:**\n",
      "\n",
      ":Number of Instances: 150 (50 in each of three classes)\n",
      ":Number of Attributes: 4 numeric, predictive attributes and the class\n",
      ":Attribute Information:\n",
      "    - sepal length in cm\n",
      "    - sepal width in cm\n",
      "    - petal length in cm\n",
      "    - petal width in cm\n",
      "    - class:\n",
      "            - Iris-Setosa\n",
      "            - Iris-Versicolour\n",
      "            - Iris-Virginica\n",
      "\n",
      ":Summary Statistics:\n",
      "\n",
      "============== ==== ==== ======= ===== ====================\n",
      "                Min  Max   Mean    SD   Class Correlation\n",
      "============== ==== ==== ======= ===== ====================\n",
      "sepal length:   4.3  7.9   5.84   0.83    0.7826\n",
      "sepal width:    2.0  4.4   3.05   0.43   -0.4194\n",
      "petal length:   1.0  6.9   3.76   1.76    0.9490  (high!)\n",
      "petal width:    0.1  2.5   1.20   0.76    0.9565  (high!)\n",
      "============== ==== ==== ======= ===== ====================\n",
      "\n",
      ":Missing Attribute Values: None\n",
      ":Class Distribution: 33.3% for each of 3 classes.\n",
      ":Creator: R.A. Fisher\n",
      ":Donor: Michael Marshall (MARSHALL%PLU@io.arc.nasa.gov)\n",
      ":Date: July, 1988\n",
      "\n",
      "The famous Iris database, first used by Sir R.A. Fisher. The dataset is taken\n",
      "from Fisher's paper. Note that it's the same as in R, but not as in the UCI\n",
      "Machine Learning Repository, which has two wrong data points.\n",
      "\n",
      "This is perhaps the best known database to be found in the\n",
      "pattern recognition literature.  Fisher's paper is a classic in the field and\n",
      "is referenced frequently to this day.  (See Duda & Hart, for example.)  The\n",
      "data set contains 3 classes of 50 instances each, where each class refers to a\n",
      "type of iris plant.  One class is linearly separable from the other 2; the\n",
      "latter are NOT linearly separable from each other.\n",
      "\n",
      ".. dropdown:: References\n",
      "\n",
      "  - Fisher, R.A. \"The use of multiple measurements in taxonomic problems\"\n",
      "    Annual Eugenics, 7, Part II, 179-188 (1936); also in \"Contributions to\n",
      "    Mathematical Statistics\" (John Wiley, NY, 1950).\n",
      "  - Duda, R.O., & Hart, P.E. (1973) Pattern Classification and Scene Analysis.\n",
      "    (Q327.D83) John Wiley & Sons.  ISBN 0-471-22361-1.  See page 218.\n",
      "  - Dasarathy, B.V. (1980) \"Nosing Around the Neighborhood: A New System\n",
      "    Structure and Classification Rule for Recognition in Partially Exposed\n",
      "    Environments\".  IEEE Transactions on Pattern Analysis and Machine\n",
      "    Intelligence, Vol. PAMI-2, No. 1, 67-71.\n",
      "  - Gates, G.W. (1972) \"The Reduced Nearest Neighbor Rule\".  IEEE Transactions\n",
      "    on Information Theory, May 1972, 431-433.\n",
      "  - See also: 1988 MLC Proceedings, 54-64.  Cheeseman et al\"s AUTOCLASS II\n",
      "    conceptual clustering system finds 3 classes in the data.\n",
      "  - Many, many more ...\n",
      "\n"
     ]
    }
   ],
   "source": [
    "print(iris.DESCR)"
   ]
  },
  {
   "cell_type": "code",
   "execution_count": 13,
   "metadata": {},
   "outputs": [],
   "source": [
    "def read_file(filepath):\n",
    "    with open(filepath, encoding=\"utf-8\") as f:\n",
    "        str_text = f.read()\n",
    "\n",
    "    return str_text"
   ]
  },
  {
   "cell_type": "code",
   "execution_count": 14,
   "metadata": {},
   "outputs": [
    {
     "data": {
      "text/plain": [
       "'VakıfBank, bireysel ve kurumsal müşterilerine ülke çapına yayılan 900’ün üzerinde şubesinin yanı sıra ileri teknolojiyle desteklenen alternatif dağıtım kanalları aracılığıyla hizmet sunmaktadır. VakıfBank’ın ABD New York, Kuzey Irak Erbil, Katar Doha şubelerinin yanı sıra Bahreyn’de kıyı bankacılığı şubesi bulunmaktadır. Ayrıca VakıfBank’ın iştirak portföyünde, biri merkezi Avusturya’da bulunan VakıfBank International AG (Viyana Şubesi ve Almanya’da Köln ile Frankfurt Şubesi ve Budapeşte Temsilciliği) olmak üzere Vakıf Faktoring A.Ş., Vakıf Finansal Kiralama A.Ş., Vakıf Gayrimenkul Yatırım Ortaklığı A.Ş., Vakıf Menkul Kıymet Yat. Ort. A.Ş., Vakıf Yatırım Menkul Değerler A.Ş. Vakıf Pazarlama San. ve Ticaret A.Ş., Taksim Otelcilik A.Ş., Vakıf Enerji ve Madencilik A.Ş., Vakıf Gayrimenkul Değerleme A.Ş. ve Vakıf Elektronik Para ve Ödeme Hizmetleri AŞ bulunmaktadır.\\n'"
      ]
     },
     "execution_count": 14,
     "metadata": {},
     "output_type": "execute_result"
    }
   ],
   "source": [
    "read_file('1.txt')"
   ]
  },
  {
   "cell_type": "code",
   "execution_count": 16,
   "metadata": {},
   "outputs": [
    {
     "data": {
      "text/plain": [
       "'2005 yılında uygulamaya koyduğu Değişim ve Yeniden Yapılandırma Programı’yla kapsamlı bir değişim ve gelişim sürecine giren VakıfBank, iş süreçlerini gözden geçirerek operasyonel işlemleri tek merkezde toplamış, böylelikle tümüyle satış ve pazarlamaya yönlendirdiği şubelerinde hizmet kalitesini artırmıştır. O günden bu yana müşteri odaklı bir anlayışla sürdürülebilir büyüme stratejisi doğrultusunda altyapısını, iş süreçlerini ve hizmet anlayışını daha da geliştirebilmek için adımlar atmıştır. VakıfBank’ın 2008 yılında yenilediği kurumsal kimliği, büyük bir başarıyla gerçekleştirdiği köklü değişim sürecini yansıtmaktadır. Müşteri odaklı bankacılık felsefesi ise 2009 yılının başından itibaren kurumsal tanıtımına eşlik eden “Burası sizin yeriniz” söylemine, 2011 yılında “Halden Anlayan Banka” konsepti eklenmiştir. Tam anlamıyla herkesin, tüm Türkiye’nin yeri olan VakıfBank, “Burası sizin yeriniz” demekten vazgeçmeyerek halden anlamayı bir adım ileri taşımıştır. Liderlik vizyonuna, finansal gücünü ekleyerek 2017 yılında “Yanındaki Güç”; 2020 yılında ise “Daima Seninle” söylemini sahiplenen VakıfBank, her zaman ve her durumda paydaşlarıyla birlikte olduğunun altını çizmiştir. Böylelikle halden anlamayla başlayıp yanındaki güç ile devam eden süreç, daima seninle halkasıyla tamamlanmıştır.\\n'"
      ]
     },
     "execution_count": 16,
     "metadata": {},
     "output_type": "execute_result"
    }
   ],
   "source": [
    "read_file('2.txt')"
   ]
  },
  {
   "cell_type": "code",
   "execution_count": null,
   "metadata": {},
   "outputs": [],
   "source": [
    "## ESKİ YILLARA GÖRE ÇALIŞAN SAYISI, İŞTEN AYRILIŞ TARİHLERİ, BUNLARIN OLDUĞU QVD LER, TABLOLAR!!!!!"
   ]
  },
  {
   "cell_type": "markdown",
   "metadata": {},
   "source": [
    "# <span style=\"color:red; font-family: 'Times New Roman'\">**CREATING A CHAT BOT**</span>\n",
    "\n"
   ]
  },
  {
   "cell_type": "code",
   "execution_count": 2,
   "metadata": {},
   "outputs": [],
   "source": [
    "import spacy"
   ]
  },
  {
   "cell_type": "code",
   "execution_count": 24,
   "metadata": {},
   "outputs": [],
   "source": [
    "import pickle\n",
    "import numpy as np\n",
    "import os\n"
   ]
  },
  {
   "cell_type": "code",
   "execution_count": 87,
   "metadata": {},
   "outputs": [
    {
     "name": "stdout",
     "output_type": "stream",
     "text": [
      "Overwriting 3.txt\n"
     ]
    }
   ],
   "source": [
    "%%writefile 3.txt\n",
    "VakıfBank’ın temel değerleri; güvenilirlik, sosyal sorumluluk, sonuç odaklılık, müşteri odaklılık, yenilikçi olmak, takım olmak, sadakat ve liderlik olarak özetlenebilir. VakıfBank, sosyal sorumluluk bilinciyle, uzun yıllardır spora ve kültür sanat hayatına yaptığı katkılarla örnek bir kurum olarak da Türk finans sektöründe önemli bir role sahiptir."
   ]
  },
  {
   "cell_type": "code",
   "execution_count": 55,
   "metadata": {},
   "outputs": [
    {
     "name": "stdout",
     "output_type": "stream",
     "text": [
      "Beklenmedik bir hata oluştu: Memo value not found at index 97\n"
     ]
    }
   ],
   "source": [
    "import pickle\n",
    "\n",
    "try:\n",
    "    with open('3.txt', 'rb') as f:\n",
    "        train_data = pickle.load(f)\n",
    "    print(\"Veri başarıyla yüklendi.\")\n",
    "except EOFError:\n",
    "    print(\"Dosya bozuk veya boş, veri yüklenemedi.\")\n",
    "except Exception as e:\n",
    "    print(f\"Beklenmedik bir hata oluştu: {e}\")"
   ]
  },
  {
   "cell_type": "code",
   "execution_count": 64,
   "metadata": {},
   "outputs": [
    {
     "name": "stdout",
     "output_type": "stream",
     "text": [
      "\n"
     ]
    }
   ],
   "source": [
    "import pickle\n",
    "\n",
    "with open('1.txt', 'r') as f:\n",
    "    train_data = f.read()\n",
    "\n",
    "print(train_data)\n"
   ]
  },
  {
   "cell_type": "code",
   "execution_count": 96,
   "metadata": {},
   "outputs": [
    {
     "name": "stdout",
     "output_type": "stream",
     "text": [
      "Veri pickle formatında ve liste olarak kaydedildi.\n"
     ]
    }
   ],
   "source": [
    "import pickle\n",
    "\n",
    "# 2.txt dosyasını okuma (metin verisi)\n",
    "with open('2.txt', 'r', encoding='utf-8') as f:\n",
    "    test_data = f.read()\n",
    "\n",
    "# Metni boşluk karakterine göre listeye dönüştürme\n",
    "test_list = test_data.split()\n",
    "\n",
    "# Listeyi pickle formatında bir dosyaya yazma\n",
    "with open('test_data.pkl', 'wb') as f:  # 'wb' -> binary write mode\n",
    "    pickle.dump(test_list, f)\n",
    "\n",
    "print(\"Veri pickle formatında ve liste olarak kaydedildi.\")\n",
    "\n"
   ]
  },
  {
   "cell_type": "code",
   "execution_count": 100,
   "metadata": {},
   "outputs": [
    {
     "name": "stdout",
     "output_type": "stream",
     "text": [
      "Veri pickle formatında ve liste olarak kaydedildi.\n"
     ]
    }
   ],
   "source": [
    "import pickle\n",
    "\n",
    "# 2.txt dosyasını okuma (metin verisi)\n",
    "with open('3.txt', 'r', encoding='utf-8') as f:\n",
    "    train_data = f.read()\n",
    "\n",
    "# Metni boşluk karakterine göre listeye dönüştürme\n",
    "train_list = train_data.split()\n",
    "\n",
    "# Listeyi pickle formatında bir dosyaya yazma\n",
    "with open('train_data.pkl', 'wb') as f:  # 'wb' -> binary write mode\n",
    "    pickle.dump(train_list, f)\n",
    "\n",
    "print(\"Veri pickle formatında ve liste olarak kaydedildi.\")"
   ]
  },
  {
   "cell_type": "code",
   "execution_count": 99,
   "metadata": {},
   "outputs": [
    {
     "data": {
      "text/plain": [
       "list"
      ]
     },
     "execution_count": 99,
     "metadata": {},
     "output_type": "execute_result"
    }
   ],
   "source": [
    "type(test_list)"
   ]
  },
  {
   "cell_type": "code",
   "execution_count": 101,
   "metadata": {},
   "outputs": [
    {
     "data": {
      "text/plain": [
       "list"
      ]
     },
     "execution_count": 101,
     "metadata": {},
     "output_type": "execute_result"
    }
   ],
   "source": [
    "type(train_list)"
   ]
  },
  {
   "cell_type": "code",
   "execution_count": 102,
   "metadata": {},
   "outputs": [
    {
     "data": {
      "text/plain": [
       "158"
      ]
     },
     "execution_count": 102,
     "metadata": {},
     "output_type": "execute_result"
    }
   ],
   "source": [
    "len(test_list)"
   ]
  },
  {
   "cell_type": "code",
   "execution_count": 83,
   "metadata": {},
   "outputs": [
    {
     "data": {
      "text/plain": [
       "'2005 yılında uygulamaya koyduğu Değişim ve Yeniden Yapılandırma Programı’yla kapsamlı bir değişim ve gelişim sürecine giren VakıfBank, iş süreçlerini gözden geçirerek operasyonel işlemleri tek merkezde toplamış, böylelikle tümüyle satış ve pazarlamaya yönlendirdiği şubelerinde hizmet kalitesini artırmıştır. O günden bu yana müşteri odaklı bir anlayışla sürdürülebilir büyüme stratejisi doğrultusunda altyapısını, iş süreçlerini ve hizmet anlayışını daha da geliştirebilmek için adımlar atmıştır. VakıfBank’ın 2008 yılında yenilediği kurumsal kimliği, büyük bir başarıyla gerçekleştirdiği köklü değişim sürecini yansıtmaktadır. Müşteri odaklı bankacılık felsefesi ise 2009 yılının başından itibaren kurumsal tanıtımına eşlik eden “Burası sizin yeriniz” söylemine, 2011 yılında “Halden Anlayan Banka” konsepti eklenmiştir. Tam anlamıyla herkesin, tüm Türkiye’nin yeri olan VakıfBank, “Burası sizin yeriniz” demekten vazgeçmeyerek halden anlamayı bir adım ileri taşımıştır. Liderlik vizyonuna, finansal gücünü ekleyerek 2017 yılında “Yanındaki Güç”; 2020 yılında ise “Daima Seninle” söylemini sahiplenen VakıfBank, her zaman ve her durumda paydaşlarıyla birlikte olduğunun altını çizmiştir. Böylelikle halden anlamayla başlayıp yanındaki güç ile devam eden süreç, daima seninle halkasıyla tamamlanmıştır.\\n'"
      ]
     },
     "execution_count": 83,
     "metadata": {},
     "output_type": "execute_result"
    }
   ],
   "source": [
    "test_data"
   ]
  },
  {
   "cell_type": "code",
   "execution_count": 79,
   "metadata": {},
   "outputs": [
    {
     "data": {
      "text/plain": [
       "'2005 yılında uygulamaya koyduğu Değişim ve Yeniden Yapılandırma Programı’yla kapsamlı bir değişim ve gelişim sürecine giren VakıfBank, iş süreçlerini gözden geçirerek operasyonel işlemleri tek merkezde toplamış, böylelikle tümüyle satış ve pazarlamaya yönlendirdiği şubelerinde hizmet kalitesini artırmıştır. O günden bu yana müşteri odaklı bir anlayışla sürdürülebilir büyüme stratejisi doğrultusunda altyapısını, iş süreçlerini ve hizmet anlayışını daha da geliştirebilmek için adımlar atmıştır. VakıfBank’ın 2008 yılında yenilediği kurumsal kimliği, büyük bir başarıyla gerçekleştirdiği köklü değişim sürecini yansıtmaktadır. Müşteri odaklı bankacılık felsefesi ise 2009 yılının başından itibaren kurumsal tanıtımına eşlik eden “Burası sizin yeriniz” söylemine, 2011 yılında “Halden Anlayan Banka” konsepti eklenmiştir. Tam anlamıyla herkesin, tüm Türkiye’nin yeri olan VakıfBank, “Burası sizin yeriniz” demekten vazgeçmeyerek halden anlamayı bir adım ileri taşımıştır. Liderlik vizyonuna, finansal gücünü ekleyerek 2017 yılında “Yanındaki Güç”; 2020 yılında ise “Daima Seninle” söylemini sahiplenen VakıfBank, her zaman ve her durumda paydaşlarıyla birlikte olduğunun altını çizmiştir. Böylelikle halden anlamayla başlayıp yanındaki güç ile devam eden süreç, daima seninle halkasıyla tamamlanmıştır.\\n'"
      ]
     },
     "execution_count": 79,
     "metadata": {},
     "output_type": "execute_result"
    }
   ],
   "source": [
    "test_data"
   ]
  },
  {
   "cell_type": "code",
   "execution_count": 90,
   "metadata": {},
   "outputs": [
    {
     "data": {
      "text/plain": [
       "'VakıfBank’ın temel değerleri; güvenilirlik, sosyal sorumluluk, sonuç odaklılık, müşteri odaklılık, yenilikçi olmak, takım olmak, sadakat ve liderlik olarak özetlenebilir. VakıfBank, sosyal sorumluluk bilinciyle, uzun yıllardır spora ve kültür sanat hayatına yaptığı katkılarla örnek bir kurum olarak da Türk finans sektöründe önemli bir role sahiptir.\\n'"
      ]
     },
     "execution_count": 90,
     "metadata": {},
     "output_type": "execute_result"
    }
   ],
   "source": [
    "train_data"
   ]
  },
  {
   "cell_type": "code",
   "execution_count": 93,
   "metadata": {},
   "outputs": [],
   "source": [
    "all_data = train_data + test_data"
   ]
  },
  {
   "cell_type": "code",
   "execution_count": 94,
   "metadata": {},
   "outputs": [
    {
     "data": {
      "text/plain": [
       "1656"
      ]
     },
     "execution_count": 94,
     "metadata": {},
     "output_type": "execute_result"
    }
   ],
   "source": [
    "len(all_data)"
   ]
  },
  {
   "cell_type": "code",
   "execution_count": 95,
   "metadata": {},
   "outputs": [
    {
     "data": {
      "text/plain": [
       "{'V'}"
      ]
     },
     "execution_count": 95,
     "metadata": {},
     "output_type": "execute_result"
    }
   ],
   "source": [
    "set(train_data[0][0])"
   ]
  },
  {
   "cell_type": "code",
   "execution_count": 103,
   "metadata": {},
   "outputs": [
    {
     "data": {
      "text/plain": [
       "['VakıfBank’ın',\n",
       " 'temel',\n",
       " 'değerleri;',\n",
       " 'güvenilirlik,',\n",
       " 'sosyal',\n",
       " 'sorumluluk,',\n",
       " 'sonuç',\n",
       " 'odaklılık,',\n",
       " 'müşteri',\n",
       " 'odaklılık,',\n",
       " 'yenilikçi',\n",
       " 'olmak,',\n",
       " 'takım',\n",
       " 'olmak,',\n",
       " 'sadakat',\n",
       " 've',\n",
       " 'liderlik',\n",
       " 'olarak',\n",
       " 'özetlenebilir.',\n",
       " 'VakıfBank,',\n",
       " 'sosyal',\n",
       " 'sorumluluk',\n",
       " 'bilinciyle,',\n",
       " 'uzun',\n",
       " 'yıllardır',\n",
       " 'spora',\n",
       " 've',\n",
       " 'kültür',\n",
       " 'sanat',\n",
       " 'hayatına',\n",
       " 'yaptığı',\n",
       " 'katkılarla',\n",
       " 'örnek',\n",
       " 'bir',\n",
       " 'kurum',\n",
       " 'olarak',\n",
       " 'da',\n",
       " 'Türk',\n",
       " 'finans',\n",
       " 'sektöründe',\n",
       " 'önemli',\n",
       " 'bir',\n",
       " 'role',\n",
       " 'sahiptir.']"
      ]
     },
     "execution_count": 103,
     "metadata": {},
     "output_type": "execute_result"
    }
   ],
   "source": [
    "train_list"
   ]
  },
  {
   "cell_type": "code",
   "execution_count": 105,
   "metadata": {},
   "outputs": [
    {
     "data": {
      "text/plain": [
       "'V'"
      ]
     },
     "execution_count": 105,
     "metadata": {},
     "output_type": "execute_result"
    }
   ],
   "source": [
    "train_list[0][0]"
   ]
  },
  {
   "cell_type": "code",
   "execution_count": 106,
   "metadata": {},
   "outputs": [],
   "source": [
    "all_data = train_list + test_list"
   ]
  },
  {
   "cell_type": "code",
   "execution_count": 107,
   "metadata": {},
   "outputs": [
    {
     "data": {
      "text/plain": [
       "202"
      ]
     },
     "execution_count": 107,
     "metadata": {},
     "output_type": "execute_result"
    }
   ],
   "source": [
    "len(all_data)"
   ]
  }
 ],
 "metadata": {
  "kernelspec": {
   "display_name": ".venv",
   "language": "python",
   "name": "python3"
  },
  "language_info": {
   "codemirror_mode": {
    "name": "ipython",
    "version": 3
   },
   "file_extension": ".py",
   "mimetype": "text/x-python",
   "name": "python",
   "nbconvert_exporter": "python",
   "pygments_lexer": "ipython3",
   "version": "3.10.11"
  }
 },
 "nbformat": 4,
 "nbformat_minor": 2
}
